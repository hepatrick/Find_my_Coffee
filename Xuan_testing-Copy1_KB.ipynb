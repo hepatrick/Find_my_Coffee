{
 "cells": [
  {
   "cell_type": "code",
   "execution_count": 1,
   "metadata": {},
   "outputs": [],
   "source": [
    "#Dependencies\n",
    "import requests\n",
    "import json\n",
    "import gmaps\n",
    "import time\n",
    "import gmaps.datasets\n",
    "\n",
    "import pandas as pd\n",
    "import numpy as np\n",
    "import matplotlib.pyplot as plt\n",
    "from matplotlib.pyplot import figure\n",
    "\n",
    "from us import states\n",
    "\n",
    "from yelpapi import get_my_key  #yelp key\n",
    "from gkey import gkey           #gmap key"
   ]
  },
  {
   "cell_type": "code",
   "execution_count": 2,
   "metadata": {},
   "outputs": [],
   "source": [
    "#Define all the pathways\n",
    "population_csv_path = \"../Project1/Population_by_Zip.csv\"\n",
    "\n",
    "business_id = \"e1zDuraqPYNqfEmgXJJAyQ\"\n",
    "ENDPORINT = \"https://api.yelp.com/v3/businesses/search\"\n",
    "HEADERS = {'Authorization': 'bearer %s' % get_my_key}"
   ]
  },
  {
   "cell_type": "code",
   "execution_count": 3,
   "metadata": {},
   "outputs": [],
   "source": [
    "# This function launches the request for all coffee shop location endpoints in Chicago IL.\n",
    "def search_coffeshops(set_num): \n",
    "    \n",
    "    url_params = {\n",
    "    \"categories\": 'coffee, All',\n",
    "    \"location\":\"Chicago\",\n",
    "    \"state\": \"Illinois\",\n",
    "    'offset': offset_num, # We are going to iterate the offset\n",
    "     \"limit\":50 # Maximum return of results per request (ref: API documentation).\n",
    "     }\n",
    "\n",
    "    response = requests.get(ENDPORINT, headers=HEADERS, params=url_params)\n",
    "    return response.json() # Returns a JSON."
   ]
  },
  {
   "cell_type": "code",
   "execution_count": 15,
   "metadata": {},
   "outputs": [
    {
     "data": {
      "text/plain": [
       "945"
      ]
     },
     "execution_count": 15,
     "metadata": {},
     "output_type": "execute_result"
    }
   ],
   "source": [
    "if __name__ == \"__main__\":\n",
    "    for offset_num in np.arange(50,1000,50) : \n",
    "# I want up to 550 results, in steps of 50 results per request.\n",
    "        try:\n",
    "            output_json = search_coffeshops(offset_num) # Executing the function defined above.\n",
    "            if offset_num == 50:\n",
    "                business_data = pd.DataFrame.from_dict(output_json['businesses'])\n",
    "# 'businesses' because that's the primary key of the JSON (i.e. pull all attribute data by calling \n",
    "# that one key). This is something you can figure out reading the API documentation or visually\n",
    "# parsing the JSON. \n",
    "            else:\n",
    "                df2 = pd.DataFrame.from_dict(output_json['businesses'])\n",
    "                business_data = business_data.append(df2)\n",
    "# The conditional statement above is so that I can append my results into a single dataframe, to \n",
    "# save into a single csv document.\n",
    "        except AttributeError:\n",
    "            print(\"error at \", offset_num) # Helpful for debugging purposes\n",
    "            \n",
    "len(business_data[\"alias\"])"
   ]
  },
  {
   "cell_type": "code",
   "execution_count": 16,
   "metadata": {},
   "outputs": [
    {
     "data": {
      "text/plain": [
       "945"
      ]
     },
     "execution_count": 16,
     "metadata": {},
     "output_type": "execute_result"
    }
   ],
   "source": [
    "#Pick up the columns we care\n",
    "good_coffee_df = pd.DataFrame(business_data)\n",
    "good_coffee_df = good_coffee_df[[\"name\",\"is_closed\",\"categories\",\"review_count\",\"rating\",\"location\", \"coordinates\"]]\n",
    "good_coffee_df = good_coffee_df.loc[(good_coffee_df[\"is_closed\"] == False)]\n",
    "len(good_coffee_df[\"name\"])"
   ]
  },
  {
   "cell_type": "code",
   "execution_count": 17,
   "metadata": {},
   "outputs": [
    {
     "data": {
      "text/plain": [
       "482"
      ]
     },
     "execution_count": 17,
     "metadata": {},
     "output_type": "execute_result"
    }
   ],
   "source": [
    "### Heatmap for coffee shop with good rate ###\n",
    "coffee_shop_heatmap = good_coffee_df.loc[( good_coffee_df[\"rating\"] >= 3.5)]\n",
    "num_coffee_heatmap = coffee_shop_heatmap['name'].count()\n",
    "num_coffee_heatmap"
   ]
  },
  {
   "cell_type": "code",
   "execution_count": 18,
   "metadata": {},
   "outputs": [
    {
     "name": "stderr",
     "output_type": "stream",
     "text": [
      "C:\\Anaconda\\lib\\site-packages\\ipykernel_launcher.py:16: SettingWithCopyWarning: \n",
      "A value is trying to be set on a copy of a slice from a DataFrame.\n",
      "Try using .loc[row_indexer,col_indexer] = value instead\n",
      "\n",
      "See the caveats in the documentation: http://pandas.pydata.org/pandas-docs/stable/indexing.html#indexing-view-versus-copy\n",
      "  app.launch_new_instance()\n",
      "C:\\Anaconda\\lib\\site-packages\\ipykernel_launcher.py:17: SettingWithCopyWarning: \n",
      "A value is trying to be set on a copy of a slice from a DataFrame.\n",
      "Try using .loc[row_indexer,col_indexer] = value instead\n",
      "\n",
      "See the caveats in the documentation: http://pandas.pydata.org/pandas-docs/stable/indexing.html#indexing-view-versus-copy\n",
      "C:\\Anaconda\\lib\\site-packages\\ipykernel_launcher.py:18: SettingWithCopyWarning: \n",
      "A value is trying to be set on a copy of a slice from a DataFrame.\n",
      "Try using .loc[row_indexer,col_indexer] = value instead\n",
      "\n",
      "See the caveats in the documentation: http://pandas.pydata.org/pandas-docs/stable/indexing.html#indexing-view-versus-copy\n"
     ]
    },
    {
     "data": {
      "text/html": [
       "<div>\n",
       "<style scoped>\n",
       "    .dataframe tbody tr th:only-of-type {\n",
       "        vertical-align: middle;\n",
       "    }\n",
       "\n",
       "    .dataframe tbody tr th {\n",
       "        vertical-align: top;\n",
       "    }\n",
       "\n",
       "    .dataframe thead th {\n",
       "        text-align: right;\n",
       "    }\n",
       "</style>\n",
       "<table border=\"1\" class=\"dataframe\">\n",
       "  <thead>\n",
       "    <tr style=\"text-align: right;\">\n",
       "      <th></th>\n",
       "      <th>name</th>\n",
       "      <th>is_closed</th>\n",
       "      <th>categories</th>\n",
       "      <th>review_count</th>\n",
       "      <th>rating</th>\n",
       "      <th>location</th>\n",
       "      <th>coordinates</th>\n",
       "      <th>zip_code</th>\n",
       "      <th>latitude</th>\n",
       "      <th>longitude</th>\n",
       "    </tr>\n",
       "  </thead>\n",
       "  <tbody>\n",
       "    <tr>\n",
       "      <th>0</th>\n",
       "      <td>Cafe Tola</td>\n",
       "      <td>False</td>\n",
       "      <td>[{'alias': 'coffee', 'title': 'Coffee &amp; Tea'}]</td>\n",
       "      <td>260</td>\n",
       "      <td>4.5</td>\n",
       "      <td>{'address1': '3612 N Southport Ave', 'address2...</td>\n",
       "      <td>{'latitude': 41.9474121183157, 'longitude': -8...</td>\n",
       "      <td>60613</td>\n",
       "      <td>41.947412</td>\n",
       "      <td>-87.664018</td>\n",
       "    </tr>\n",
       "    <tr>\n",
       "      <th>1</th>\n",
       "      <td>Bakin' &amp; Eggs</td>\n",
       "      <td>False</td>\n",
       "      <td>[{'alias': 'breakfast_brunch', 'title': 'Break...</td>\n",
       "      <td>710</td>\n",
       "      <td>3.5</td>\n",
       "      <td>{'address1': '3120 N Lincoln Ave', 'address2':...</td>\n",
       "      <td>{'latitude': 41.93823, 'longitude': -87.66714}</td>\n",
       "      <td>60657</td>\n",
       "      <td>41.938230</td>\n",
       "      <td>-87.667140</td>\n",
       "    </tr>\n",
       "    <tr>\n",
       "      <th>2</th>\n",
       "      <td>CC Ferns Coffee Bar &amp; Spirits</td>\n",
       "      <td>False</td>\n",
       "      <td>[{'alias': 'coffee', 'title': 'Coffee &amp; Tea'},...</td>\n",
       "      <td>132</td>\n",
       "      <td>4.5</td>\n",
       "      <td>{'address1': '2806 W Augusta Blvd', 'address2'...</td>\n",
       "      <td>{'latitude': 41.8994049, 'longitude': -87.6970...</td>\n",
       "      <td>60622</td>\n",
       "      <td>41.899405</td>\n",
       "      <td>-87.697089</td>\n",
       "    </tr>\n",
       "    <tr>\n",
       "      <th>3</th>\n",
       "      <td>Bridgeport Coffee</td>\n",
       "      <td>False</td>\n",
       "      <td>[{'alias': 'coffee', 'title': 'Coffee &amp; Tea'},...</td>\n",
       "      <td>389</td>\n",
       "      <td>4.0</td>\n",
       "      <td>{'address1': '3101 S Morgan St', 'address2': N...</td>\n",
       "      <td>{'latitude': 41.8378601074219, 'longitude': -8...</td>\n",
       "      <td>60608</td>\n",
       "      <td>41.837860</td>\n",
       "      <td>-87.650848</td>\n",
       "    </tr>\n",
       "    <tr>\n",
       "      <th>4</th>\n",
       "      <td>The Long Room</td>\n",
       "      <td>False</td>\n",
       "      <td>[{'alias': 'bars', 'title': 'Bars'}, {'alias':...</td>\n",
       "      <td>286</td>\n",
       "      <td>4.0</td>\n",
       "      <td>{'address1': '1612 W Irving Park Rd', 'address...</td>\n",
       "      <td>{'latitude': 41.9543649269481, 'longitude': -8...</td>\n",
       "      <td>60613</td>\n",
       "      <td>41.954365</td>\n",
       "      <td>-87.669966</td>\n",
       "    </tr>\n",
       "  </tbody>\n",
       "</table>\n",
       "</div>"
      ],
      "text/plain": [
       "                            name  is_closed  \\\n",
       "0                      Cafe Tola      False   \n",
       "1                  Bakin' & Eggs      False   \n",
       "2  CC Ferns Coffee Bar & Spirits      False   \n",
       "3              Bridgeport Coffee      False   \n",
       "4                  The Long Room      False   \n",
       "\n",
       "                                          categories  review_count  rating  \\\n",
       "0     [{'alias': 'coffee', 'title': 'Coffee & Tea'}]           260     4.5   \n",
       "1  [{'alias': 'breakfast_brunch', 'title': 'Break...           710     3.5   \n",
       "2  [{'alias': 'coffee', 'title': 'Coffee & Tea'},...           132     4.5   \n",
       "3  [{'alias': 'coffee', 'title': 'Coffee & Tea'},...           389     4.0   \n",
       "4  [{'alias': 'bars', 'title': 'Bars'}, {'alias':...           286     4.0   \n",
       "\n",
       "                                            location  \\\n",
       "0  {'address1': '3612 N Southport Ave', 'address2...   \n",
       "1  {'address1': '3120 N Lincoln Ave', 'address2':...   \n",
       "2  {'address1': '2806 W Augusta Blvd', 'address2'...   \n",
       "3  {'address1': '3101 S Morgan St', 'address2': N...   \n",
       "4  {'address1': '1612 W Irving Park Rd', 'address...   \n",
       "\n",
       "                                         coordinates zip_code   latitude  \\\n",
       "0  {'latitude': 41.9474121183157, 'longitude': -8...    60613  41.947412   \n",
       "1     {'latitude': 41.93823, 'longitude': -87.66714}    60657  41.938230   \n",
       "2  {'latitude': 41.8994049, 'longitude': -87.6970...    60622  41.899405   \n",
       "3  {'latitude': 41.8378601074219, 'longitude': -8...    60608  41.837860   \n",
       "4  {'latitude': 41.9543649269481, 'longitude': -8...    60613  41.954365   \n",
       "\n",
       "   longitude  \n",
       "0 -87.664018  \n",
       "1 -87.667140  \n",
       "2 -87.697089  \n",
       "3 -87.650848  \n",
       "4 -87.669966  "
      ]
     },
     "execution_count": 18,
     "metadata": {},
     "output_type": "execute_result"
    }
   ],
   "source": [
    "zip_list_cafe_heatmap = []\n",
    "lat_list_cafe_heatmap = []\n",
    "lng_list_cafe_heatmap = []\n",
    "\n",
    "for i in range(0, num_coffee_heatmap):\n",
    "    \n",
    "    temp_zip = coffee_shop_heatmap[\"location\"].iloc[i][\"zip_code\"]\n",
    "    zip_list_cafe_heatmap.append(temp_zip)\n",
    "    \n",
    "    temp_lat = coffee_shop_heatmap[\"coordinates\"].iloc[i][\"latitude\"]\n",
    "    lat_list_cafe_heatmap.append(temp_lat)\n",
    "    \n",
    "    temp_lng = coffee_shop_heatmap[\"coordinates\"].iloc[i][\"longitude\"]\n",
    "    lng_list_cafe_heatmap.append(temp_lng)    \n",
    "    \n",
    "coffee_shop_heatmap['zip_code'] = zip_list_cafe_heatmap\n",
    "coffee_shop_heatmap['latitude'] = lat_list_cafe_heatmap\n",
    "coffee_shop_heatmap['longitude'] = lng_list_cafe_heatmap\n",
    "\n",
    "coffee_shop_heatmap.head()"
   ]
  },
  {
   "cell_type": "code",
   "execution_count": 19,
   "metadata": {},
   "outputs": [
    {
     "data": {
      "application/vnd.jupyter.widget-view+json": {
       "model_id": "186a982446704d47ad774a19bb89d4dc",
       "version_major": 2,
       "version_minor": 0
      },
      "text/plain": [
       "Figure(layout=FigureLayout(height='420px'))"
      ]
     },
     "metadata": {},
     "output_type": "display_data"
    }
   ],
   "source": [
    "#HeatMap for Coffee Shop rates > 3.5\n",
    "gmaps.configure(api_key = gkey)\n",
    "\n",
    "locations = coffee_shop_heatmap[[\"latitude\", \"longitude\"]].astype(float)\n",
    "rating = coffee_shop_heatmap[\"rating\"].astype(float)\n",
    "\n",
    "coffee_shop_heatmap_layer = gmaps.heatmap_layer(locations, \n",
    "                                                weights=rating, \n",
    "                                                dissipating=False, \n",
    "                                                max_intensity=100, \n",
    "                                                point_radius=0.02)\n",
    "\n",
    "coffee_shop_heatmap_layer.dissipating = False\n",
    "coffee_shop_heatmap_layer.max_intensity = 100\n",
    "coffee_shop_heatmap_layer.point_radius = 0.02\n",
    "\n",
    "fig1 = gmaps.figure()\n",
    "fig1.add_layer(coffee_shop_heatmap_layer)\n",
    "fig1"
   ]
  },
  {
   "cell_type": "code",
   "execution_count": 20,
   "metadata": {},
   "outputs": [
    {
     "data": {
      "text/plain": [
       "149"
      ]
     },
     "execution_count": 20,
     "metadata": {},
     "output_type": "execute_result"
    }
   ],
   "source": [
    "### Pick up coffee shop with better rate and enough reviews number ###\n",
    "great_coffee_shop = good_coffee_df.loc[(good_coffee_df[\"review_count\"] > 50) & \n",
    "                                       ( good_coffee_df[\"rating\"] >= 4.0)]\n",
    "\n",
    "num_great_coffee_shop = great_coffee_shop['name'].count()\n",
    "num_great_coffee_shop"
   ]
  },
  {
   "cell_type": "code",
   "execution_count": 21,
   "metadata": {},
   "outputs": [
    {
     "name": "stderr",
     "output_type": "stream",
     "text": [
      "C:\\Anaconda\\lib\\site-packages\\ipykernel_launcher.py:17: SettingWithCopyWarning: \n",
      "A value is trying to be set on a copy of a slice from a DataFrame.\n",
      "Try using .loc[row_indexer,col_indexer] = value instead\n",
      "\n",
      "See the caveats in the documentation: http://pandas.pydata.org/pandas-docs/stable/indexing.html#indexing-view-versus-copy\n",
      "C:\\Anaconda\\lib\\site-packages\\ipykernel_launcher.py:18: SettingWithCopyWarning: \n",
      "A value is trying to be set on a copy of a slice from a DataFrame.\n",
      "Try using .loc[row_indexer,col_indexer] = value instead\n",
      "\n",
      "See the caveats in the documentation: http://pandas.pydata.org/pandas-docs/stable/indexing.html#indexing-view-versus-copy\n",
      "C:\\Anaconda\\lib\\site-packages\\ipykernel_launcher.py:19: SettingWithCopyWarning: \n",
      "A value is trying to be set on a copy of a slice from a DataFrame.\n",
      "Try using .loc[row_indexer,col_indexer] = value instead\n",
      "\n",
      "See the caveats in the documentation: http://pandas.pydata.org/pandas-docs/stable/indexing.html#indexing-view-versus-copy\n"
     ]
    },
    {
     "data": {
      "text/html": [
       "<div>\n",
       "<style scoped>\n",
       "    .dataframe tbody tr th:only-of-type {\n",
       "        vertical-align: middle;\n",
       "    }\n",
       "\n",
       "    .dataframe tbody tr th {\n",
       "        vertical-align: top;\n",
       "    }\n",
       "\n",
       "    .dataframe thead th {\n",
       "        text-align: right;\n",
       "    }\n",
       "</style>\n",
       "<table border=\"1\" class=\"dataframe\">\n",
       "  <thead>\n",
       "    <tr style=\"text-align: right;\">\n",
       "      <th></th>\n",
       "      <th>name</th>\n",
       "      <th>is_closed</th>\n",
       "      <th>categories</th>\n",
       "      <th>review_count</th>\n",
       "      <th>rating</th>\n",
       "      <th>location</th>\n",
       "      <th>coordinates</th>\n",
       "      <th>zip_code</th>\n",
       "      <th>latitude</th>\n",
       "      <th>longitude</th>\n",
       "    </tr>\n",
       "  </thead>\n",
       "  <tbody>\n",
       "    <tr>\n",
       "      <th>0</th>\n",
       "      <td>Cafe Tola</td>\n",
       "      <td>False</td>\n",
       "      <td>[{'alias': 'coffee', 'title': 'Coffee &amp; Tea'}]</td>\n",
       "      <td>260</td>\n",
       "      <td>4.5</td>\n",
       "      <td>{'address1': '3612 N Southport Ave', 'address2...</td>\n",
       "      <td>{'latitude': 41.9474121183157, 'longitude': -8...</td>\n",
       "      <td>60613</td>\n",
       "      <td>41.947412</td>\n",
       "      <td>-87.664018</td>\n",
       "    </tr>\n",
       "    <tr>\n",
       "      <th>2</th>\n",
       "      <td>CC Ferns Coffee Bar &amp; Spirits</td>\n",
       "      <td>False</td>\n",
       "      <td>[{'alias': 'coffee', 'title': 'Coffee &amp; Tea'},...</td>\n",
       "      <td>132</td>\n",
       "      <td>4.5</td>\n",
       "      <td>{'address1': '2806 W Augusta Blvd', 'address2'...</td>\n",
       "      <td>{'latitude': 41.8994049, 'longitude': -87.6970...</td>\n",
       "      <td>60622</td>\n",
       "      <td>41.899405</td>\n",
       "      <td>-87.697089</td>\n",
       "    </tr>\n",
       "    <tr>\n",
       "      <th>3</th>\n",
       "      <td>Bridgeport Coffee</td>\n",
       "      <td>False</td>\n",
       "      <td>[{'alias': 'coffee', 'title': 'Coffee &amp; Tea'},...</td>\n",
       "      <td>389</td>\n",
       "      <td>4.0</td>\n",
       "      <td>{'address1': '3101 S Morgan St', 'address2': N...</td>\n",
       "      <td>{'latitude': 41.8378601074219, 'longitude': -8...</td>\n",
       "      <td>60608</td>\n",
       "      <td>41.837860</td>\n",
       "      <td>-87.650848</td>\n",
       "    </tr>\n",
       "    <tr>\n",
       "      <th>4</th>\n",
       "      <td>The Long Room</td>\n",
       "      <td>False</td>\n",
       "      <td>[{'alias': 'bars', 'title': 'Bars'}, {'alias':...</td>\n",
       "      <td>286</td>\n",
       "      <td>4.0</td>\n",
       "      <td>{'address1': '1612 W Irving Park Rd', 'address...</td>\n",
       "      <td>{'latitude': 41.9543649269481, 'longitude': -8...</td>\n",
       "      <td>60613</td>\n",
       "      <td>41.954365</td>\n",
       "      <td>-87.669966</td>\n",
       "    </tr>\n",
       "    <tr>\n",
       "      <th>5</th>\n",
       "      <td>Dollop Coffee &amp; Tea</td>\n",
       "      <td>False</td>\n",
       "      <td>[{'alias': 'coffee', 'title': 'Coffee &amp; Tea'}]</td>\n",
       "      <td>448</td>\n",
       "      <td>4.0</td>\n",
       "      <td>{'address1': '345 E Ohio St', 'address2': '', ...</td>\n",
       "      <td>{'latitude': 41.8924508684265, 'longitude': -8...</td>\n",
       "      <td>60611</td>\n",
       "      <td>41.892451</td>\n",
       "      <td>-87.618670</td>\n",
       "    </tr>\n",
       "  </tbody>\n",
       "</table>\n",
       "</div>"
      ],
      "text/plain": [
       "                            name  is_closed  \\\n",
       "0                      Cafe Tola      False   \n",
       "2  CC Ferns Coffee Bar & Spirits      False   \n",
       "3              Bridgeport Coffee      False   \n",
       "4                  The Long Room      False   \n",
       "5            Dollop Coffee & Tea      False   \n",
       "\n",
       "                                          categories  review_count  rating  \\\n",
       "0     [{'alias': 'coffee', 'title': 'Coffee & Tea'}]           260     4.5   \n",
       "2  [{'alias': 'coffee', 'title': 'Coffee & Tea'},...           132     4.5   \n",
       "3  [{'alias': 'coffee', 'title': 'Coffee & Tea'},...           389     4.0   \n",
       "4  [{'alias': 'bars', 'title': 'Bars'}, {'alias':...           286     4.0   \n",
       "5     [{'alias': 'coffee', 'title': 'Coffee & Tea'}]           448     4.0   \n",
       "\n",
       "                                            location  \\\n",
       "0  {'address1': '3612 N Southport Ave', 'address2...   \n",
       "2  {'address1': '2806 W Augusta Blvd', 'address2'...   \n",
       "3  {'address1': '3101 S Morgan St', 'address2': N...   \n",
       "4  {'address1': '1612 W Irving Park Rd', 'address...   \n",
       "5  {'address1': '345 E Ohio St', 'address2': '', ...   \n",
       "\n",
       "                                         coordinates zip_code   latitude  \\\n",
       "0  {'latitude': 41.9474121183157, 'longitude': -8...    60613  41.947412   \n",
       "2  {'latitude': 41.8994049, 'longitude': -87.6970...    60622  41.899405   \n",
       "3  {'latitude': 41.8378601074219, 'longitude': -8...    60608  41.837860   \n",
       "4  {'latitude': 41.9543649269481, 'longitude': -8...    60613  41.954365   \n",
       "5  {'latitude': 41.8924508684265, 'longitude': -8...    60611  41.892451   \n",
       "\n",
       "   longitude  \n",
       "0 -87.664018  \n",
       "2 -87.697089  \n",
       "3 -87.650848  \n",
       "4 -87.669966  \n",
       "5 -87.618670  "
      ]
     },
     "execution_count": 21,
     "metadata": {},
     "output_type": "execute_result"
    }
   ],
   "source": [
    "zip_list_great_coffee_shop = []\n",
    "lat_list_great_coffee_shop = []\n",
    "lng_list_great_coffee_shop = []\n",
    "\n",
    "for i in range(0, num_great_coffee_shop):\n",
    "    \n",
    "    temp_zip = great_coffee_shop[\"location\"].iloc[i][\"zip_code\"]\n",
    "    zip_list_great_coffee_shop.append(temp_zip)\n",
    "    \n",
    "    temp_lat = great_coffee_shop[\"coordinates\"].iloc[i][\"latitude\"]\n",
    "    lat_list_great_coffee_shop.append(temp_lat)\n",
    "    \n",
    "    temp_lng = great_coffee_shop[\"coordinates\"].iloc[i][\"longitude\"]\n",
    "    lng_list_great_coffee_shop.append(temp_lng)    \n",
    "    \n",
    "#Re-organize the dataframe\n",
    "great_coffee_shop['zip_code'] = zip_list_great_coffee_shop\n",
    "great_coffee_shop['latitude'] = lat_list_great_coffee_shop\n",
    "great_coffee_shop['longitude'] = lng_list_great_coffee_shop\n",
    "\n",
    "great_coffee_shop.head()"
   ]
  },
  {
   "cell_type": "code",
   "execution_count": 22,
   "metadata": {},
   "outputs": [
    {
     "data": {
      "text/html": [
       "<div>\n",
       "<style scoped>\n",
       "    .dataframe tbody tr th:only-of-type {\n",
       "        vertical-align: middle;\n",
       "    }\n",
       "\n",
       "    .dataframe tbody tr th {\n",
       "        vertical-align: top;\n",
       "    }\n",
       "\n",
       "    .dataframe thead th {\n",
       "        text-align: right;\n",
       "    }\n",
       "</style>\n",
       "<table border=\"1\" class=\"dataframe\">\n",
       "  <thead>\n",
       "    <tr style=\"text-align: right;\">\n",
       "      <th></th>\n",
       "      <th>Number of Coffee Shop</th>\n",
       "    </tr>\n",
       "    <tr>\n",
       "      <th>zip_code</th>\n",
       "      <th></th>\n",
       "    </tr>\n",
       "  </thead>\n",
       "  <tbody>\n",
       "    <tr>\n",
       "      <th>60647</th>\n",
       "      <td>14</td>\n",
       "    </tr>\n",
       "    <tr>\n",
       "      <th>60611</th>\n",
       "      <td>13</td>\n",
       "    </tr>\n",
       "    <tr>\n",
       "      <th>60622</th>\n",
       "      <td>11</td>\n",
       "    </tr>\n",
       "    <tr>\n",
       "      <th>60640</th>\n",
       "      <td>10</td>\n",
       "    </tr>\n",
       "    <tr>\n",
       "      <th>60613</th>\n",
       "      <td>9</td>\n",
       "    </tr>\n",
       "  </tbody>\n",
       "</table>\n",
       "</div>"
      ],
      "text/plain": [
       "          Number of Coffee Shop\n",
       "zip_code                       \n",
       "60647                        14\n",
       "60611                        13\n",
       "60622                        11\n",
       "60640                        10\n",
       "60613                         9"
      ]
     },
     "execution_count": 22,
     "metadata": {},
     "output_type": "execute_result"
    }
   ],
   "source": [
    "#Group by zip_code\n",
    "great_coffee_by_zip = great_coffee_shop.groupby('zip_code')\n",
    "num_coffee_by_zip = great_coffee_by_zip['name'].count()\n",
    "\n",
    "great_coffee_by_zip_df = pd.DataFrame(num_coffee_by_zip)\n",
    "great_coffee_by_zip_df = great_coffee_by_zip_df.rename(columns={\"name\":\"Number of Coffee Shop\"})\n",
    "great_coffee_by_zip_df.sort_values(by = \"Number of Coffee Shop\",ascending=False, inplace=True)\n",
    "\n",
    "great_coffee_by_zip_df.head()"
   ]
  },
  {
   "cell_type": "code",
   "execution_count": 23,
   "metadata": {
    "scrolled": true
   },
   "outputs": [
    {
     "data": {
      "application/vnd.jupyter.widget-view+json": {
       "model_id": "a9431f54a4ff4408bdc9459ba8f9f8c4",
       "version_major": 2,
       "version_minor": 0
      },
      "text/plain": [
       "Figure(layout=FigureLayout(height='420px'))"
      ]
     },
     "metadata": {},
     "output_type": "display_data"
    }
   ],
   "source": [
    "### Heatmap for coffee shop with better rate and enough reviews number ###\n",
    "gmaps.configure(api_key = gkey)\n",
    "\n",
    "locations2 = great_coffee_shop[[\"latitude\", \"longitude\"]].astype(float)\n",
    "\n",
    "great_coffee_shop_layer = gmaps.symbol_layer(locations2, \n",
    "                                       fill_color='rgba(0, 150, 0, 0.4)',\n",
    "                                       stroke_color='rgba(0, 0, 150, 0.4)', \n",
    "                                       scale=2)\n",
    "\n",
    "fig2 = gmaps.figure()\n",
    "fig2.add_layer(great_coffee_shop_layer)\n",
    "fig2"
   ]
  },
  {
   "cell_type": "code",
   "execution_count": null,
   "metadata": {},
   "outputs": [],
   "source": [
    "### The relation between Coffee Shop heatmap and WHERE the great coffee shops are ###\n",
    "fig3 = gmaps.figure()\n",
    "fig3.add_layer(coffee_shop_heatmap_layer)\n",
    "fig3.add_layer(great_coffee_shop_layer)\n",
    "\n",
    "fig3"
   ]
  },
  {
   "cell_type": "code",
   "execution_count": null,
   "metadata": {},
   "outputs": [],
   "source": [
    "### Lets get some data for population! ###\n",
    "#Read data from csv for Zip Code and Population Data\n",
    "pop_by_zip_df = pd.read_csv(population_csv_path)\n",
    "pop_by_zip_df.head()"
   ]
  },
  {
   "cell_type": "code",
   "execution_count": null,
   "metadata": {},
   "outputs": [],
   "source": [
    "# Same number of values in both rows\n",
    "# Both columns are made up of integers\n",
    "pop_by_zip_df.count()"
   ]
  },
  {
   "cell_type": "code",
   "execution_count": null,
   "metadata": {},
   "outputs": [],
   "source": [
    "# Chicago Zipcodes range from 60007 - 60827\n",
    "chicago_zip = pop_by_zip_df.loc[(pop_by_zip_df['Zip Code ZCTA'] >= 60007) & (pop_by_zip_df['Zip Code ZCTA'] <= 60827)]\n",
    "chicago_pop_df = chicago_zip.rename(columns={\"Zip Code ZCTA\":\"zip_code\", \n",
    "                                               \"2010 Census Population\":\"Population in 2010\"})\n",
    "\n",
    "chicago_pop_df.reset_index(drop=True).head()"
   ]
  },
  {
   "cell_type": "code",
   "execution_count": null,
   "metadata": {},
   "outputs": [],
   "source": [
    "chicago_pop_df.count()"
   ]
  },
  {
   "cell_type": "code",
   "execution_count": null,
   "metadata": {},
   "outputs": [],
   "source": [
    "# Zip Code and coordinating Latitude and Longitude Data\n",
    "lat_long_csv = \"../Project1/KB_US_Zip_Codes.csv\"\n",
    "zip_lat_long_df = pd.read_csv(lat_long_csv)\n",
    "zip_lat_long_df.head()"
   ]
  },
  {
   "cell_type": "code",
   "execution_count": null,
   "metadata": {},
   "outputs": [],
   "source": [
    "# Pull Chicago Zip Codes with coordinating Latitudes and Longitudes \n",
    "chicago_lat_long = zip_lat_long_df.loc[(zip_lat_long_df['ZIP'] >= 60007) & (zip_lat_long_df['ZIP'] <= 60827)]\n",
    "chicago_lat_long.reset_index(drop=True).head()"
   ]
  },
  {
   "cell_type": "code",
   "execution_count": null,
   "metadata": {},
   "outputs": [],
   "source": [
    "# Change column titles \n",
    "chicago_latlong = chicago_lat_long.rename(columns={\"ZIP\":\"zip_code\", \n",
    "                                               \"LAT\":\"Latitude\", \"LNG\":\"Longitude\"})\n",
    "chicago_latlong.head()"
   ]
  },
  {
   "cell_type": "code",
   "execution_count": null,
   "metadata": {},
   "outputs": [],
   "source": [
    "# Merge population and lat/lng data frames\n",
    "zip_pop_merge = pd.merge(chicago_latlong, chicago_pop_df, on=\"zip_code\")\n",
    "zip_pop_merge.head()"
   ]
  },
  {
   "cell_type": "code",
   "execution_count": null,
   "metadata": {},
   "outputs": [],
   "source": [
    "### Time for Chicago population heatmap ###\n",
    "locations3 = zip_pop_merge[[\"Latitude\", \"Longitude\"]].astype(float)\n",
    "population = zip_pop_merge[\"Population in 2010\"].astype(float)\n",
    "\n",
    "#Fix the population data since number is too large.\n",
    "factor = 1500\n",
    "population_fix = [round(x/factor,2) for x in population]\n",
    "population_fix"
   ]
  },
  {
   "cell_type": "code",
   "execution_count": null,
   "metadata": {},
   "outputs": [],
   "source": [
    "pop_heat_layer = gmaps.heatmap_layer(locations3, \n",
    "                                 weights=population_fix, \n",
    "                                 dissipating=False, \n",
    "                                 max_intensity=100, \n",
    "                                 point_radius=0.045)\n",
    "\n",
    "pop_heat_layer.dissipating = False\n",
    "pop_heat_layer.max_intensity = 100\n",
    "pop_heat_layer.point_radius = 0.045\n",
    "\n",
    "fig4 = gmaps.figure()\n",
    "fig4.add_layer(pop_heat_layer)\n",
    "fig4"
   ]
  },
  {
   "cell_type": "code",
   "execution_count": null,
   "metadata": {
    "scrolled": true
   },
   "outputs": [],
   "source": [
    "### Relation between great coffee shops and Chicago's population heatmap ###\n",
    "fig5 = gmaps.figure()\n",
    "fig5.add_layer(great_coffee_shop_layer)\n",
    "fig5.add_layer(pop_heat_layer)\n",
    "\n",
    "fig5"
   ]
  },
  {
   "cell_type": "code",
   "execution_count": null,
   "metadata": {},
   "outputs": [],
   "source": []
  },
  {
   "cell_type": "code",
   "execution_count": null,
   "metadata": {},
   "outputs": [],
   "source": []
  },
  {
   "cell_type": "code",
   "execution_count": null,
   "metadata": {},
   "outputs": [],
   "source": []
  },
  {
   "cell_type": "code",
   "execution_count": null,
   "metadata": {},
   "outputs": [],
   "source": []
  },
  {
   "cell_type": "code",
   "execution_count": null,
   "metadata": {},
   "outputs": [],
   "source": [
    "# Merge Population and Yelp Data into one Data Frame\n",
    "merged_coffee_pop = pd.merge(chicago_pop_df, great_coffee_shop, on=\"zip_code\")\n",
    "merged_coffee_pop"
   ]
  },
  {
   "cell_type": "code",
   "execution_count": null,
   "metadata": {},
   "outputs": [],
   "source": [
    "# Scatter/Bubble Plot of the Population of the Neighborhood (based on Zip Code) vs. \n",
    "# The Number of Yelp Reviews (per coffee shop)\n",
    "\n",
    "# Each bubble is a Chicago Zip Code \n",
    "# Circle Size correlates with the population in that Zip Code \n",
    "# X-axis = total number of reviews in that zip code (sum of reviews in zip)\n",
    "# Y-axis = average number of ratings in that zip code (mean/avg of raring in zip)\n",
    "\n",
    "#population_bubble = merged_coffee_pop.loc[merged_coffee_pop[\"Population in 2010\"]]"
   ]
  },
  {
   "cell_type": "code",
   "execution_count": null,
   "metadata": {},
   "outputs": [],
   "source": [
    "# yelp_review = merged_coffee_pop[\"review_count\"].sum()\n",
    "# yelp_rating = merged_coffee_pop[\"rating\"].mean()"
   ]
  },
  {
   "cell_type": "code",
   "execution_count": null,
   "metadata": {},
   "outputs": [],
   "source": [
    "# # Create and format scatter plot\n",
    "# plt.scatter(yelp_review, yelp_rating, marker = \"o\", edgecolors = \"black\", facecolor = \"coral\", \n",
    "#             alpha = 0.75, linewidth = 1.0)\n",
    "\n",
    "# plt.xlabel('Number of Reviews Per Coffee Shops')\n",
    "# plt.ylabel('Average Rating (in Stars) of Coffee Shops')\n",
    "# plt.title('Population of Chicago Neighborhood vs. Popularity of Coffee Shops (by Yelp Reviews and Ratings)')\n",
    "# plt.text(42, 30, 'Note: Circle size correlates population of Chicago Neighborhood (by Zip Code)')\n",
    "\n",
    "# plt.grid()\n",
    "\n",
    "# # plt.legend(pyber_data_complete[\"type\"].unique(), title=\"City Types\")\n",
    "\n",
    "# plt.show()"
   ]
  },
  {
   "cell_type": "code",
   "execution_count": null,
   "metadata": {},
   "outputs": [],
   "source": [
    "# Scatter Plot - Population of Neighborhood (by Zip Code) vs. Number of Reviews (from Yelp) - Visibility of Shop\n",
    "yelp_reviews = merged_coffee_pop[\"review_count\"]\n",
    "by_population = merged_coffee_pop[\"Population in 2010\"]"
   ]
  },
  {
   "cell_type": "code",
   "execution_count": null,
   "metadata": {},
   "outputs": [],
   "source": [
    "plt.scatter(by_population, yelp_reviews, marker = \"o\", edgecolors = \"black\", facecolor = \"cyan\", \n",
    "            alpha = 0.75, linewidth = 1.0)\n",
    "\n",
    "plt.xlabel('Neighborhood Population (from Census)')\n",
    "plt.ylabel('Number of Positive Yelp Reviews of Coffee Shop')\n",
    "plt.title('Chicago Coffee Shop Visibility')\n",
    "# plt.text(42, 30, 'Note: Circle size correlates population of Chicago Neighborhood (by Zip Code)')\n",
    "\n",
    "plt.grid()\n",
    "# plt.savefig(\"../CoffeeShopVisibility.png\")\n",
    "plt.show()"
   ]
  },
  {
   "cell_type": "code",
   "execution_count": null,
   "metadata": {},
   "outputs": [],
   "source": [
    "\\"
   ]
  }
 ],
 "metadata": {
  "kernelspec": {
   "display_name": "Python 3",
   "language": "python",
   "name": "python3"
  },
  "language_info": {
   "codemirror_mode": {
    "name": "ipython",
    "version": 3
   },
   "file_extension": ".py",
   "mimetype": "text/x-python",
   "name": "python",
   "nbconvert_exporter": "python",
   "pygments_lexer": "ipython3",
   "version": "3.6.7"
  }
 },
 "nbformat": 4,
 "nbformat_minor": 2
}
