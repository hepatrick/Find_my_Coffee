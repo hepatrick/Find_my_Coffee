{
 "cells": [
  {
   "cell_type": "markdown",
   "metadata": {},
   "source": [
    "### FindMyCoffee - Project 1 \n",
    "### Our Data Exploration and Clean Up Process\n",
    "#### By: Xuan He, Katelyn Burke, and Prathyusha Challa"
   ]
  },
  {
   "cell_type": "code",
   "execution_count": 2,
   "metadata": {},
   "outputs": [],
   "source": [
    "#Import Dependencies\n",
    "import requests\n",
    "import json\n",
    "import gmaps\n",
    "import time\n",
    "import gmaps.datasets\n",
    "\n",
    "import pandas as pd\n",
    "import numpy as np\n",
    "import matplotlib.pyplot as plt\n",
    "from matplotlib.pyplot import figure\n",
    "\n",
    "from us import states\n",
    "\n",
    "from yelpapi import get_my_key  #yelp key\n",
    "from gkey import gkey           #gmap key"
   ]
  },
  {
   "cell_type": "code",
   "execution_count": 3,
   "metadata": {},
   "outputs": [],
   "source": [
    "#Define all the pathways\n",
    "population_csv_path = \"../Project1/Population_by_Zip.csv\"\n",
    "\n",
    "business_id = \"e1zDuraqPYNqfEmgXJJAyQ\"\n",
    "ENDPORINT = \"https://api.yelp.com/v3/businesses/search\"\n",
    "HEADERS = {'Authorization': 'bearer %s' % get_my_key}"
   ]
  },
  {
   "cell_type": "markdown",
   "metadata": {},
   "source": [
    "Set the parameters - we are searching for the 'coffee' category in the location 'Chicago, Illinois' \n",
    "\n",
    "Converted the response to a JSON"
   ]
  },
  {
   "cell_type": "code",
   "execution_count": 4,
   "metadata": {},
   "outputs": [],
   "source": [
    "# This function launches the request for all coffee shop location endpoints in Chicago IL.\n",
    "def search_coffeshops(set_num): \n",
    "    \n",
    "    url_params = {\n",
    "    \"categories\": 'coffee, All',\n",
    "    \"location\":\"Chicago\",\n",
    "    \"state\": \"Illinois\",\n",
    "    'offset': offset_num, # We are going to iterate the offset\n",
    "     \"limit\":50 # Maximum return of results per request (ref: API documentation).\n",
    "     }\n",
    "\n",
    "    response = requests.get(ENDPORINT, headers=HEADERS, params=url_params)\n",
    "    return response.json() # Returns a JSON."
   ]
  },
  {
   "cell_type": "code",
   "execution_count": 5,
   "metadata": {},
   "outputs": [],
   "source": [
    "if __name__ == \"__main__\":\n",
    "    for offset_num in np.arange(50,1000,50) : \n",
    "# I want up to 100 results, in steps of 50 results per request.\n",
    "        try:\n",
    "            output_json = search_coffeshops(offset_num) # Executing the function defined above.\n",
    "            if offset_num == 50:\n",
    "                business_data = pd.DataFrame.from_dict(output_json['businesses'])\n",
    "# 'businesses' because that's the primary key of the JSON (i.e. pull all attribute data by calling \n",
    "# that one key). This is something you can figure out reading the API documentation or visually\n",
    "# parsing the JSON. \n",
    "            else:\n",
    "                df2 = pd.DataFrame.from_dict(output_json['businesses'])\n",
    "                business_data = business_data.append(df2)\n",
    "# The conditional statement above is so that I can append my results into a single dataframe, to \n",
    "# save into a single csv document.\n",
    "        except AttributeError:\n",
    "            print(\"error at \", offset_num) # Helpful for debugging purposes"
   ]
  },
  {
   "cell_type": "markdown",
   "metadata": {},
   "source": [
    "We chose categories of data we wanted to focus on by reading through the JSON\n",
    "We decided to pull this data to help us understand which areas of Chicago are the best for opening a coffee shop and why: \n",
    "\n",
    " Name (of coffee shop)\n",
    " \n",
    " Closed (bool - either true or false)\n",
    " \n",
    " Review count (written by customers)\n",
    " \n",
    " Rating (average number of starts the business has received from customers)\n",
    " \n",
    " Location (address and zip code)\n",
    " \n",
    " Latitude/longitude coordinates (so we can utilize GMaps)"
   ]
  },
  {
   "cell_type": "code",
   "execution_count": 6,
   "metadata": {},
   "outputs": [],
   "source": [
    "#Pick up the columns we care about\n",
    "good_coffee_df = pd.DataFrame(business_data)\n",
    "good_coffee_df = good_coffee_df[[\"name\",\"is_closed\",\"categories\",\"review_count\",\"rating\",\"location\", \"coordinates\"]]\n",
    "good_coffee_df = good_coffee_df.loc[(good_coffee_df[\"is_closed\"] == False)]"
   ]
  },
  {
   "cell_type": "markdown",
   "metadata": {},
   "source": [
    "The GMaps Heatmap will illustrate the areas of Chicago that have the most positively rated coffee shops (a total of 483 coffee shops represented on the heat map) that have a rating of 3.5 stars (out of 5)."
   ]
  },
  {
   "cell_type": "code",
   "execution_count": 7,
   "metadata": {},
   "outputs": [
    {
     "name": "stderr",
     "output_type": "stream",
     "text": [
      "C:\\Anaconda\\lib\\site-packages\\ipykernel_launcher.py:20: SettingWithCopyWarning: \n",
      "A value is trying to be set on a copy of a slice from a DataFrame.\n",
      "Try using .loc[row_indexer,col_indexer] = value instead\n",
      "\n",
      "See the caveats in the documentation: http://pandas.pydata.org/pandas-docs/stable/indexing.html#indexing-view-versus-copy\n",
      "C:\\Anaconda\\lib\\site-packages\\ipykernel_launcher.py:21: SettingWithCopyWarning: \n",
      "A value is trying to be set on a copy of a slice from a DataFrame.\n",
      "Try using .loc[row_indexer,col_indexer] = value instead\n",
      "\n",
      "See the caveats in the documentation: http://pandas.pydata.org/pandas-docs/stable/indexing.html#indexing-view-versus-copy\n",
      "C:\\Anaconda\\lib\\site-packages\\ipykernel_launcher.py:22: SettingWithCopyWarning: \n",
      "A value is trying to be set on a copy of a slice from a DataFrame.\n",
      "Try using .loc[row_indexer,col_indexer] = value instead\n",
      "\n",
      "See the caveats in the documentation: http://pandas.pydata.org/pandas-docs/stable/indexing.html#indexing-view-versus-copy\n"
     ]
    },
    {
     "data": {
      "text/html": [
       "<div>\n",
       "<style scoped>\n",
       "    .dataframe tbody tr th:only-of-type {\n",
       "        vertical-align: middle;\n",
       "    }\n",
       "\n",
       "    .dataframe tbody tr th {\n",
       "        vertical-align: top;\n",
       "    }\n",
       "\n",
       "    .dataframe thead th {\n",
       "        text-align: right;\n",
       "    }\n",
       "</style>\n",
       "<table border=\"1\" class=\"dataframe\">\n",
       "  <thead>\n",
       "    <tr style=\"text-align: right;\">\n",
       "      <th></th>\n",
       "      <th>name</th>\n",
       "      <th>is_closed</th>\n",
       "      <th>categories</th>\n",
       "      <th>review_count</th>\n",
       "      <th>rating</th>\n",
       "      <th>location</th>\n",
       "      <th>coordinates</th>\n",
       "      <th>zip_code</th>\n",
       "      <th>latitude</th>\n",
       "      <th>longitude</th>\n",
       "    </tr>\n",
       "  </thead>\n",
       "  <tbody>\n",
       "    <tr>\n",
       "      <th>0</th>\n",
       "      <td>Cafe Tola</td>\n",
       "      <td>False</td>\n",
       "      <td>[{'alias': 'coffee', 'title': 'Coffee &amp; Tea'}]</td>\n",
       "      <td>260</td>\n",
       "      <td>4.5</td>\n",
       "      <td>{'address1': '3612 N Southport Ave', 'address2...</td>\n",
       "      <td>{'latitude': 41.9474121183157, 'longitude': -8...</td>\n",
       "      <td>60613</td>\n",
       "      <td>41.947412</td>\n",
       "      <td>-87.664018</td>\n",
       "    </tr>\n",
       "    <tr>\n",
       "      <th>1</th>\n",
       "      <td>Bakin' &amp; Eggs</td>\n",
       "      <td>False</td>\n",
       "      <td>[{'alias': 'breakfast_brunch', 'title': 'Break...</td>\n",
       "      <td>710</td>\n",
       "      <td>3.5</td>\n",
       "      <td>{'address1': '3120 N Lincoln Ave', 'address2':...</td>\n",
       "      <td>{'latitude': 41.93823, 'longitude': -87.66714}</td>\n",
       "      <td>60657</td>\n",
       "      <td>41.938230</td>\n",
       "      <td>-87.667140</td>\n",
       "    </tr>\n",
       "    <tr>\n",
       "      <th>2</th>\n",
       "      <td>CC Ferns Coffee Bar &amp; Spirits</td>\n",
       "      <td>False</td>\n",
       "      <td>[{'alias': 'coffee', 'title': 'Coffee &amp; Tea'},...</td>\n",
       "      <td>132</td>\n",
       "      <td>4.5</td>\n",
       "      <td>{'address1': '2806 W Augusta Blvd', 'address2'...</td>\n",
       "      <td>{'latitude': 41.8994049, 'longitude': -87.6970...</td>\n",
       "      <td>60622</td>\n",
       "      <td>41.899405</td>\n",
       "      <td>-87.697089</td>\n",
       "    </tr>\n",
       "    <tr>\n",
       "      <th>3</th>\n",
       "      <td>Bridgeport Coffee</td>\n",
       "      <td>False</td>\n",
       "      <td>[{'alias': 'coffee', 'title': 'Coffee &amp; Tea'},...</td>\n",
       "      <td>390</td>\n",
       "      <td>4.0</td>\n",
       "      <td>{'address1': '3101 S Morgan St', 'address2': N...</td>\n",
       "      <td>{'latitude': 41.8378601074219, 'longitude': -8...</td>\n",
       "      <td>60608</td>\n",
       "      <td>41.837860</td>\n",
       "      <td>-87.650848</td>\n",
       "    </tr>\n",
       "    <tr>\n",
       "      <th>4</th>\n",
       "      <td>The Long Room</td>\n",
       "      <td>False</td>\n",
       "      <td>[{'alias': 'bars', 'title': 'Bars'}, {'alias':...</td>\n",
       "      <td>286</td>\n",
       "      <td>4.0</td>\n",
       "      <td>{'address1': '1612 W Irving Park Rd', 'address...</td>\n",
       "      <td>{'latitude': 41.9543649269481, 'longitude': -8...</td>\n",
       "      <td>60613</td>\n",
       "      <td>41.954365</td>\n",
       "      <td>-87.669966</td>\n",
       "    </tr>\n",
       "  </tbody>\n",
       "</table>\n",
       "</div>"
      ],
      "text/plain": [
       "                            name  is_closed  \\\n",
       "0                      Cafe Tola      False   \n",
       "1                  Bakin' & Eggs      False   \n",
       "2  CC Ferns Coffee Bar & Spirits      False   \n",
       "3              Bridgeport Coffee      False   \n",
       "4                  The Long Room      False   \n",
       "\n",
       "                                          categories  review_count  rating  \\\n",
       "0     [{'alias': 'coffee', 'title': 'Coffee & Tea'}]           260     4.5   \n",
       "1  [{'alias': 'breakfast_brunch', 'title': 'Break...           710     3.5   \n",
       "2  [{'alias': 'coffee', 'title': 'Coffee & Tea'},...           132     4.5   \n",
       "3  [{'alias': 'coffee', 'title': 'Coffee & Tea'},...           390     4.0   \n",
       "4  [{'alias': 'bars', 'title': 'Bars'}, {'alias':...           286     4.0   \n",
       "\n",
       "                                            location  \\\n",
       "0  {'address1': '3612 N Southport Ave', 'address2...   \n",
       "1  {'address1': '3120 N Lincoln Ave', 'address2':...   \n",
       "2  {'address1': '2806 W Augusta Blvd', 'address2'...   \n",
       "3  {'address1': '3101 S Morgan St', 'address2': N...   \n",
       "4  {'address1': '1612 W Irving Park Rd', 'address...   \n",
       "\n",
       "                                         coordinates zip_code   latitude  \\\n",
       "0  {'latitude': 41.9474121183157, 'longitude': -8...    60613  41.947412   \n",
       "1     {'latitude': 41.93823, 'longitude': -87.66714}    60657  41.938230   \n",
       "2  {'latitude': 41.8994049, 'longitude': -87.6970...    60622  41.899405   \n",
       "3  {'latitude': 41.8378601074219, 'longitude': -8...    60608  41.837860   \n",
       "4  {'latitude': 41.9543649269481, 'longitude': -8...    60613  41.954365   \n",
       "\n",
       "   longitude  \n",
       "0 -87.664018  \n",
       "1 -87.667140  \n",
       "2 -87.697089  \n",
       "3 -87.650848  \n",
       "4 -87.669966  "
      ]
     },
     "execution_count": 7,
     "metadata": {},
     "output_type": "execute_result"
    }
   ],
   "source": [
    "### Heatmap for coffee shop with good rate ###\n",
    "coffee_shop_heatmap = good_coffee_df.loc[( good_coffee_df[\"rating\"] >= 3.5)]\n",
    "num_coffee_heatmap = coffee_shop_heatmap['name'].count()\n",
    "\n",
    "zip_list_cafe_heatmap = []\n",
    "lat_list_cafe_heatmap = []\n",
    "lng_list_cafe_heatmap = []\n",
    "\n",
    "for i in range(0, num_coffee_heatmap):\n",
    "    \n",
    "    temp_zip = coffee_shop_heatmap[\"location\"].iloc[i][\"zip_code\"]\n",
    "    zip_list_cafe_heatmap.append(temp_zip)\n",
    "    \n",
    "    temp_lat = coffee_shop_heatmap[\"coordinates\"].iloc[i][\"latitude\"]\n",
    "    lat_list_cafe_heatmap.append(temp_lat)\n",
    "    \n",
    "    temp_lng = coffee_shop_heatmap[\"coordinates\"].iloc[i][\"longitude\"]\n",
    "    lng_list_cafe_heatmap.append(temp_lng)    \n",
    "    \n",
    "coffee_shop_heatmap['zip_code'] = zip_list_cafe_heatmap\n",
    "coffee_shop_heatmap['latitude'] = lat_list_cafe_heatmap\n",
    "coffee_shop_heatmap['longitude'] = lng_list_cafe_heatmap\n",
    "\n",
    "coffee_shop_heatmap.head()\n"
   ]
  },
  {
   "cell_type": "code",
   "execution_count": 8,
   "metadata": {},
   "outputs": [
    {
     "data": {
      "application/vnd.jupyter.widget-view+json": {
       "model_id": "182a107b8c534c13962595c054a3426b",
       "version_major": 2,
       "version_minor": 0
      },
      "text/plain": [
       "Figure(layout=FigureLayout(height='420px'))"
      ]
     },
     "metadata": {},
     "output_type": "display_data"
    }
   ],
   "source": [
    "#HeatMap for Coffee Shop rates > 3.5\n",
    "gmaps.configure(api_key = gkey)\n",
    "\n",
    "locations = coffee_shop_heatmap[[\"latitude\", \"longitude\"]].astype(float)\n",
    "rating = coffee_shop_heatmap[\"rating\"].astype(float)\n",
    "\n",
    "coffee_shop_heatmap_layer = gmaps.heatmap_layer(locations, \n",
    "                                                weights=rating, \n",
    "                                                dissipating=False, \n",
    "                                                max_intensity=100, \n",
    "                                                point_radius=0.02)\n",
    "\n",
    "coffee_shop_heatmap_layer.dissipating = False\n",
    "coffee_shop_heatmap_layer.max_intensity = 100\n",
    "coffee_shop_heatmap_layer.point_radius = 0.02\n",
    "\n",
    "fig1 = gmaps.figure()\n",
    "fig1.add_layer(coffee_shop_heatmap_layer)\n",
    "fig1"
   ]
  },
  {
   "cell_type": "markdown",
   "metadata": {},
   "source": [
    "We also decided that the 'great' coffee shops not only have a high average rating, but they also have several reviews written by customers.\n",
    "\n",
    "We narrowed down our search for great coffee shops in Chicago by pulling the coffee shops with more than 50 customer reviews and an average rating of 4 stars are higher (yielded 149 results)"
   ]
  },
  {
   "cell_type": "code",
   "execution_count": 9,
   "metadata": {},
   "outputs": [
    {
     "name": "stderr",
     "output_type": "stream",
     "text": [
      "C:\\Anaconda\\lib\\site-packages\\ipykernel_launcher.py:23: SettingWithCopyWarning: \n",
      "A value is trying to be set on a copy of a slice from a DataFrame.\n",
      "Try using .loc[row_indexer,col_indexer] = value instead\n",
      "\n",
      "See the caveats in the documentation: http://pandas.pydata.org/pandas-docs/stable/indexing.html#indexing-view-versus-copy\n",
      "C:\\Anaconda\\lib\\site-packages\\ipykernel_launcher.py:24: SettingWithCopyWarning: \n",
      "A value is trying to be set on a copy of a slice from a DataFrame.\n",
      "Try using .loc[row_indexer,col_indexer] = value instead\n",
      "\n",
      "See the caveats in the documentation: http://pandas.pydata.org/pandas-docs/stable/indexing.html#indexing-view-versus-copy\n",
      "C:\\Anaconda\\lib\\site-packages\\ipykernel_launcher.py:25: SettingWithCopyWarning: \n",
      "A value is trying to be set on a copy of a slice from a DataFrame.\n",
      "Try using .loc[row_indexer,col_indexer] = value instead\n",
      "\n",
      "See the caveats in the documentation: http://pandas.pydata.org/pandas-docs/stable/indexing.html#indexing-view-versus-copy\n"
     ]
    },
    {
     "data": {
      "text/html": [
       "<div>\n",
       "<style scoped>\n",
       "    .dataframe tbody tr th:only-of-type {\n",
       "        vertical-align: middle;\n",
       "    }\n",
       "\n",
       "    .dataframe tbody tr th {\n",
       "        vertical-align: top;\n",
       "    }\n",
       "\n",
       "    .dataframe thead th {\n",
       "        text-align: right;\n",
       "    }\n",
       "</style>\n",
       "<table border=\"1\" class=\"dataframe\">\n",
       "  <thead>\n",
       "    <tr style=\"text-align: right;\">\n",
       "      <th></th>\n",
       "      <th>name</th>\n",
       "      <th>is_closed</th>\n",
       "      <th>categories</th>\n",
       "      <th>review_count</th>\n",
       "      <th>rating</th>\n",
       "      <th>location</th>\n",
       "      <th>coordinates</th>\n",
       "      <th>zip_code</th>\n",
       "      <th>latitude</th>\n",
       "      <th>longitude</th>\n",
       "    </tr>\n",
       "  </thead>\n",
       "  <tbody>\n",
       "    <tr>\n",
       "      <th>0</th>\n",
       "      <td>Cafe Tola</td>\n",
       "      <td>False</td>\n",
       "      <td>[{'alias': 'coffee', 'title': 'Coffee &amp; Tea'}]</td>\n",
       "      <td>260</td>\n",
       "      <td>4.5</td>\n",
       "      <td>{'address1': '3612 N Southport Ave', 'address2...</td>\n",
       "      <td>{'latitude': 41.9474121183157, 'longitude': -8...</td>\n",
       "      <td>60613</td>\n",
       "      <td>41.947412</td>\n",
       "      <td>-87.664018</td>\n",
       "    </tr>\n",
       "    <tr>\n",
       "      <th>2</th>\n",
       "      <td>CC Ferns Coffee Bar &amp; Spirits</td>\n",
       "      <td>False</td>\n",
       "      <td>[{'alias': 'coffee', 'title': 'Coffee &amp; Tea'},...</td>\n",
       "      <td>132</td>\n",
       "      <td>4.5</td>\n",
       "      <td>{'address1': '2806 W Augusta Blvd', 'address2'...</td>\n",
       "      <td>{'latitude': 41.8994049, 'longitude': -87.6970...</td>\n",
       "      <td>60622</td>\n",
       "      <td>41.899405</td>\n",
       "      <td>-87.697089</td>\n",
       "    </tr>\n",
       "    <tr>\n",
       "      <th>3</th>\n",
       "      <td>Bridgeport Coffee</td>\n",
       "      <td>False</td>\n",
       "      <td>[{'alias': 'coffee', 'title': 'Coffee &amp; Tea'},...</td>\n",
       "      <td>390</td>\n",
       "      <td>4.0</td>\n",
       "      <td>{'address1': '3101 S Morgan St', 'address2': N...</td>\n",
       "      <td>{'latitude': 41.8378601074219, 'longitude': -8...</td>\n",
       "      <td>60608</td>\n",
       "      <td>41.837860</td>\n",
       "      <td>-87.650848</td>\n",
       "    </tr>\n",
       "    <tr>\n",
       "      <th>4</th>\n",
       "      <td>The Long Room</td>\n",
       "      <td>False</td>\n",
       "      <td>[{'alias': 'bars', 'title': 'Bars'}, {'alias':...</td>\n",
       "      <td>286</td>\n",
       "      <td>4.0</td>\n",
       "      <td>{'address1': '1612 W Irving Park Rd', 'address...</td>\n",
       "      <td>{'latitude': 41.9543649269481, 'longitude': -8...</td>\n",
       "      <td>60613</td>\n",
       "      <td>41.954365</td>\n",
       "      <td>-87.669966</td>\n",
       "    </tr>\n",
       "    <tr>\n",
       "      <th>5</th>\n",
       "      <td>Dollop Coffee &amp; Tea</td>\n",
       "      <td>False</td>\n",
       "      <td>[{'alias': 'coffee', 'title': 'Coffee &amp; Tea'}]</td>\n",
       "      <td>448</td>\n",
       "      <td>4.0</td>\n",
       "      <td>{'address1': '345 E Ohio St', 'address2': '', ...</td>\n",
       "      <td>{'latitude': 41.8924508684265, 'longitude': -8...</td>\n",
       "      <td>60611</td>\n",
       "      <td>41.892451</td>\n",
       "      <td>-87.618670</td>\n",
       "    </tr>\n",
       "  </tbody>\n",
       "</table>\n",
       "</div>"
      ],
      "text/plain": [
       "                            name  is_closed  \\\n",
       "0                      Cafe Tola      False   \n",
       "2  CC Ferns Coffee Bar & Spirits      False   \n",
       "3              Bridgeport Coffee      False   \n",
       "4                  The Long Room      False   \n",
       "5            Dollop Coffee & Tea      False   \n",
       "\n",
       "                                          categories  review_count  rating  \\\n",
       "0     [{'alias': 'coffee', 'title': 'Coffee & Tea'}]           260     4.5   \n",
       "2  [{'alias': 'coffee', 'title': 'Coffee & Tea'},...           132     4.5   \n",
       "3  [{'alias': 'coffee', 'title': 'Coffee & Tea'},...           390     4.0   \n",
       "4  [{'alias': 'bars', 'title': 'Bars'}, {'alias':...           286     4.0   \n",
       "5     [{'alias': 'coffee', 'title': 'Coffee & Tea'}]           448     4.0   \n",
       "\n",
       "                                            location  \\\n",
       "0  {'address1': '3612 N Southport Ave', 'address2...   \n",
       "2  {'address1': '2806 W Augusta Blvd', 'address2'...   \n",
       "3  {'address1': '3101 S Morgan St', 'address2': N...   \n",
       "4  {'address1': '1612 W Irving Park Rd', 'address...   \n",
       "5  {'address1': '345 E Ohio St', 'address2': '', ...   \n",
       "\n",
       "                                         coordinates zip_code   latitude  \\\n",
       "0  {'latitude': 41.9474121183157, 'longitude': -8...    60613  41.947412   \n",
       "2  {'latitude': 41.8994049, 'longitude': -87.6970...    60622  41.899405   \n",
       "3  {'latitude': 41.8378601074219, 'longitude': -8...    60608  41.837860   \n",
       "4  {'latitude': 41.9543649269481, 'longitude': -8...    60613  41.954365   \n",
       "5  {'latitude': 41.8924508684265, 'longitude': -8...    60611  41.892451   \n",
       "\n",
       "   longitude  \n",
       "0 -87.664018  \n",
       "2 -87.697089  \n",
       "3 -87.650848  \n",
       "4 -87.669966  \n",
       "5 -87.618670  "
      ]
     },
     "execution_count": 9,
     "metadata": {},
     "output_type": "execute_result"
    }
   ],
   "source": [
    "### Pick up coffee shop with better rate and enough reviews number ###\n",
    "great_coffee_shop = good_coffee_df.loc[(good_coffee_df[\"review_count\"] > 50) & \n",
    "                                       ( good_coffee_df[\"rating\"] >= 4.0)]\n",
    "\n",
    "num_great_coffee_shop = great_coffee_shop['name'].count()\n",
    "\n",
    "zip_list_great_coffee_shop = []\n",
    "lat_list_great_coffee_shop = []\n",
    "lng_list_great_coffee_shop = []\n",
    "\n",
    "for i in range(0, num_great_coffee_shop):\n",
    "    \n",
    "    temp_zip = great_coffee_shop[\"location\"].iloc[i][\"zip_code\"]\n",
    "    zip_list_great_coffee_shop.append(temp_zip)\n",
    "    \n",
    "    temp_lat = great_coffee_shop[\"coordinates\"].iloc[i][\"latitude\"]\n",
    "    lat_list_great_coffee_shop.append(temp_lat)\n",
    "    \n",
    "    temp_lng = great_coffee_shop[\"coordinates\"].iloc[i][\"longitude\"]\n",
    "    lng_list_great_coffee_shop.append(temp_lng)    \n",
    "    \n",
    "#Re-organize the dataframe\n",
    "great_coffee_shop['zip_code'] = zip_list_great_coffee_shop\n",
    "great_coffee_shop['latitude'] = lat_list_great_coffee_shop\n",
    "great_coffee_shop['longitude'] = lng_list_great_coffee_shop\n",
    "\n",
    "great_coffee_shop.head()"
   ]
  },
  {
   "cell_type": "markdown",
   "metadata": {},
   "source": [
    "We needed to change the data type of the Zip Codes to integers from objects. This allowed us to merge the YELP data frame with the population data from on Zip Code. "
   ]
  },
  {
   "cell_type": "code",
   "execution_count": 10,
   "metadata": {
    "scrolled": true
   },
   "outputs": [
    {
     "name": "stderr",
     "output_type": "stream",
     "text": [
      "C:\\Anaconda\\lib\\site-packages\\ipykernel_launcher.py:3: SettingWithCopyWarning: \n",
      "A value is trying to be set on a copy of a slice from a DataFrame.\n",
      "Try using .loc[row_indexer,col_indexer] = value instead\n",
      "\n",
      "See the caveats in the documentation: http://pandas.pydata.org/pandas-docs/stable/indexing.html#indexing-view-versus-copy\n",
      "  This is separate from the ipykernel package so we can avoid doing imports until\n"
     ]
    },
    {
     "data": {
      "text/html": [
       "<div>\n",
       "<style scoped>\n",
       "    .dataframe tbody tr th:only-of-type {\n",
       "        vertical-align: middle;\n",
       "    }\n",
       "\n",
       "    .dataframe tbody tr th {\n",
       "        vertical-align: top;\n",
       "    }\n",
       "\n",
       "    .dataframe thead th {\n",
       "        text-align: right;\n",
       "    }\n",
       "</style>\n",
       "<table border=\"1\" class=\"dataframe\">\n",
       "  <thead>\n",
       "    <tr style=\"text-align: right;\">\n",
       "      <th></th>\n",
       "      <th>Number of Coffee Shop</th>\n",
       "    </tr>\n",
       "    <tr>\n",
       "      <th>zip_code</th>\n",
       "      <th></th>\n",
       "    </tr>\n",
       "  </thead>\n",
       "  <tbody>\n",
       "    <tr>\n",
       "      <th>60647</th>\n",
       "      <td>14</td>\n",
       "    </tr>\n",
       "    <tr>\n",
       "      <th>60611</th>\n",
       "      <td>13</td>\n",
       "    </tr>\n",
       "    <tr>\n",
       "      <th>60622</th>\n",
       "      <td>11</td>\n",
       "    </tr>\n",
       "    <tr>\n",
       "      <th>60640</th>\n",
       "      <td>10</td>\n",
       "    </tr>\n",
       "    <tr>\n",
       "      <th>60613</th>\n",
       "      <td>9</td>\n",
       "    </tr>\n",
       "  </tbody>\n",
       "</table>\n",
       "</div>"
      ],
      "text/plain": [
       "          Number of Coffee Shop\n",
       "zip_code                       \n",
       "60647                        14\n",
       "60611                        13\n",
       "60622                        11\n",
       "60640                        10\n",
       "60613                         9"
      ]
     },
     "execution_count": 10,
     "metadata": {},
     "output_type": "execute_result"
    }
   ],
   "source": [
    "# need to change the data type of Zipcode to integer (int64)\n",
    "great_coffee_shop['zip_code'] = great_coffee_shop['zip_code'].apply(pd.to_numeric)\n",
    "\n",
    "#Group by zip_code\n",
    "great_coffee_by_zip = great_coffee_shop.groupby('zip_code')\n",
    "num_coffee_by_zip = great_coffee_by_zip['name'].count()\n",
    "\n",
    "great_coffee_by_zip_df = pd.DataFrame(num_coffee_by_zip)\n",
    "great_coffee_by_zip_df = great_coffee_by_zip_df.rename(columns={\"name\":\"Number of Coffee Shop\"})\n",
    "great_coffee_by_zip_df.sort_values(by = \"Number of Coffee Shop\",ascending=False, inplace=True)\n",
    "\n",
    "great_coffee_by_zip_df.head()"
   ]
  },
  {
   "cell_type": "markdown",
   "metadata": {},
   "source": [
    "This layer of the heatmap shows the exact location of the 'great' coffee shops"
   ]
  },
  {
   "cell_type": "code",
   "execution_count": 30,
   "metadata": {
    "scrolled": true
   },
   "outputs": [
    {
     "data": {
      "application/vnd.jupyter.widget-view+json": {
       "model_id": "b3af6f65e07b469d8a4867c1fdc10768",
       "version_major": 2,
       "version_minor": 0
      },
      "text/plain": [
       "Figure(layout=FigureLayout(height='420px'))"
      ]
     },
     "metadata": {},
     "output_type": "display_data"
    }
   ],
   "source": [
    "### Heatmap for coffee shop with better rate and enough reviews number ###\n",
    "gmaps.configure(api_key = gkey)\n",
    "\n",
    "locations2 = great_coffee_shop[[\"latitude\", \"longitude\"]].astype(float)\n",
    "\n",
    "great_coffee_shop_layer = gmaps.symbol_layer(locations2, \n",
    "                                       fill_color='rgba(0, 150, 0, 0.4)',\n",
    "                                       stroke_color='rgba(0, 0, 150, 0.4)', \n",
    "                                       scale=2)\n",
    "\n",
    "#fig2 = gmaps.figure()\n",
    "#fig2.add_layer(great_coffee_shop_layer)\n",
    "#fig2\n",
    "\n",
    "### The relationship between Coffee Shop heatmap and WHERE the great coffee shops are ###\n",
    "fig3 = gmaps.figure()\n",
    "fig3.add_layer(coffee_shop_heatmap_layer)\n",
    "fig3.add_layer(great_coffee_shop_layer)\n",
    "\n",
    "fig3"
   ]
  },
  {
   "cell_type": "markdown",
   "metadata": {},
   "source": [
    "We brought in the population data by Zip Code from the CSV file. This data frame includes all of the USA zip codes - we will need to pull out the Chicago Zip Codes\n",
    "\n",
    "Pulled the Chicago Zip Codes and reset the index of our DataFrame Changed column names - the Zip Code column name matches the Zip Code column name on the YELP data DataFrame so that we can merge by Zip Code"
   ]
  },
  {
   "cell_type": "code",
   "execution_count": 14,
   "metadata": {},
   "outputs": [
    {
     "data": {
      "text/html": [
       "<div>\n",
       "<style scoped>\n",
       "    .dataframe tbody tr th:only-of-type {\n",
       "        vertical-align: middle;\n",
       "    }\n",
       "\n",
       "    .dataframe tbody tr th {\n",
       "        vertical-align: top;\n",
       "    }\n",
       "\n",
       "    .dataframe thead th {\n",
       "        text-align: right;\n",
       "    }\n",
       "</style>\n",
       "<table border=\"1\" class=\"dataframe\">\n",
       "  <thead>\n",
       "    <tr style=\"text-align: right;\">\n",
       "      <th></th>\n",
       "      <th>zip_code</th>\n",
       "      <th>Population in 2010</th>\n",
       "    </tr>\n",
       "  </thead>\n",
       "  <tbody>\n",
       "    <tr>\n",
       "      <th>0</th>\n",
       "      <td>60007</td>\n",
       "      <td>33820</td>\n",
       "    </tr>\n",
       "    <tr>\n",
       "      <th>1</th>\n",
       "      <td>60008</td>\n",
       "      <td>22717</td>\n",
       "    </tr>\n",
       "    <tr>\n",
       "      <th>2</th>\n",
       "      <td>60010</td>\n",
       "      <td>44095</td>\n",
       "    </tr>\n",
       "    <tr>\n",
       "      <th>3</th>\n",
       "      <td>60012</td>\n",
       "      <td>11120</td>\n",
       "    </tr>\n",
       "    <tr>\n",
       "      <th>4</th>\n",
       "      <td>60013</td>\n",
       "      <td>26872</td>\n",
       "    </tr>\n",
       "  </tbody>\n",
       "</table>\n",
       "</div>"
      ],
      "text/plain": [
       "   zip_code  Population in 2010\n",
       "0     60007               33820\n",
       "1     60008               22717\n",
       "2     60010               44095\n",
       "3     60012               11120\n",
       "4     60013               26872"
      ]
     },
     "execution_count": 14,
     "metadata": {},
     "output_type": "execute_result"
    }
   ],
   "source": [
    "### Lets get some data for population! ###\n",
    "#Read data from csv for Zip Code and Population Data\n",
    "pop_by_zip_df = pd.read_csv(population_csv_path)\n",
    "\n",
    "# Chicago Zipcodes range from 60007 - 60827\n",
    "chicago_zip = pop_by_zip_df.loc[(pop_by_zip_df['Zip Code ZCTA'] >= 60007) & (pop_by_zip_df['Zip Code ZCTA'] <= 60827)]\n",
    "chicago_pop_df = chicago_zip.rename(columns={\"Zip Code ZCTA\":\"zip_code\", \n",
    "                                               \"2010 Census Population\":\"Population in 2010\"})\n",
    "\n",
    "chicago_pop_df.reset_index(drop=True).head()"
   ]
  },
  {
   "cell_type": "markdown",
   "metadata": {},
   "source": [
    "Read in another CSV file that has the Zip Code and coordinating Latitude and Longitude for every Zip Code in the US\n",
    "\n",
    "We noticed that the CSV file dropped the leading zeros of some Zip Codes, we figured that this was not a problem for us since none of the Chicago Zip codes have leading zeros "
   ]
  },
  {
   "cell_type": "code",
   "execution_count": 25,
   "metadata": {},
   "outputs": [
    {
     "data": {
      "text/html": [
       "<div>\n",
       "<style scoped>\n",
       "    .dataframe tbody tr th:only-of-type {\n",
       "        vertical-align: middle;\n",
       "    }\n",
       "\n",
       "    .dataframe tbody tr th {\n",
       "        vertical-align: top;\n",
       "    }\n",
       "\n",
       "    .dataframe thead th {\n",
       "        text-align: right;\n",
       "    }\n",
       "</style>\n",
       "<table border=\"1\" class=\"dataframe\">\n",
       "  <thead>\n",
       "    <tr style=\"text-align: right;\">\n",
       "      <th></th>\n",
       "      <th>zip_code</th>\n",
       "      <th>Latitude</th>\n",
       "      <th>Longitude</th>\n",
       "      <th>Population in 2010</th>\n",
       "    </tr>\n",
       "  </thead>\n",
       "  <tbody>\n",
       "    <tr>\n",
       "      <th>0</th>\n",
       "      <td>60007</td>\n",
       "      <td>42.008600</td>\n",
       "      <td>-87.997340</td>\n",
       "      <td>33820</td>\n",
       "    </tr>\n",
       "    <tr>\n",
       "      <th>1</th>\n",
       "      <td>60008</td>\n",
       "      <td>42.069786</td>\n",
       "      <td>-88.016221</td>\n",
       "      <td>22717</td>\n",
       "    </tr>\n",
       "    <tr>\n",
       "      <th>2</th>\n",
       "      <td>60010</td>\n",
       "      <td>42.146494</td>\n",
       "      <td>-88.164651</td>\n",
       "      <td>44095</td>\n",
       "    </tr>\n",
       "    <tr>\n",
       "      <th>3</th>\n",
       "      <td>60012</td>\n",
       "      <td>42.272492</td>\n",
       "      <td>-88.314084</td>\n",
       "      <td>11120</td>\n",
       "    </tr>\n",
       "    <tr>\n",
       "      <th>4</th>\n",
       "      <td>60013</td>\n",
       "      <td>42.223439</td>\n",
       "      <td>-88.235506</td>\n",
       "      <td>26872</td>\n",
       "    </tr>\n",
       "  </tbody>\n",
       "</table>\n",
       "</div>"
      ],
      "text/plain": [
       "   zip_code   Latitude  Longitude  Population in 2010\n",
       "0     60007  42.008600 -87.997340               33820\n",
       "1     60008  42.069786 -88.016221               22717\n",
       "2     60010  42.146494 -88.164651               44095\n",
       "3     60012  42.272492 -88.314084               11120\n",
       "4     60013  42.223439 -88.235506               26872"
      ]
     },
     "execution_count": 25,
     "metadata": {},
     "output_type": "execute_result"
    }
   ],
   "source": [
    "# Zip Code and coordinating Latitude and Longitude Data\n",
    "lat_long_csv = \"../Project1/KB_US_Zip_Codes.csv\"\n",
    "zip_lat_long_df = pd.read_csv(lat_long_csv)\n",
    "\n",
    "# Pull Chicago Zip Codes with coordinating Latitudes and Longitudes and reset the index\n",
    "chicago_lat_long = zip_lat_long_df.loc[(zip_lat_long_df['ZIP'] >= 60007) & (zip_lat_long_df['ZIP'] <= 60827)]\n",
    "chicago_lat_long.reset_index(drop=True).head()\n",
    "\n",
    "#changed the column titles and ensured that the Zip Code column title was the same as the YELP data frame\n",
    "chicago_latlong = chicago_lat_long.rename(columns={\"ZIP\":\"zip_code\", \n",
    "                                               \"LAT\":\"Latitude\", \"LNG\":\"Longitude\"})\n",
    "\n",
    "# Merge population and latitude / longitude data frames\n",
    "zip_pop_merge = pd.merge(chicago_latlong, chicago_pop_df, on=\"zip_code\")\n",
    "zip_pop_merge.head()"
   ]
  },
  {
   "cell_type": "markdown",
   "metadata": {},
   "source": [
    "This heatmap layer illustrates the population of the Zip Codes in Chicago, the color red on the heatmap shows the most populous areas "
   ]
  },
  {
   "cell_type": "code",
   "execution_count": 19,
   "metadata": {
    "scrolled": true
   },
   "outputs": [
    {
     "data": {
      "application/vnd.jupyter.widget-view+json": {
       "model_id": "b71ec52d0ed64885bddc5faab4935b3d",
       "version_major": 2,
       "version_minor": 0
      },
      "text/plain": [
       "Figure(layout=FigureLayout(height='420px'))"
      ]
     },
     "metadata": {},
     "output_type": "display_data"
    }
   ],
   "source": [
    "### Time for Chicago population heatmap ###\n",
    "locations3 = zip_pop_merge[[\"Latitude\", \"Longitude\"]].astype(float)\n",
    "population = zip_pop_merge[\"Population in 2010\"].astype(float)\n",
    "\n",
    "#Fix the population data since number is too large.\n",
    "factor = 1500\n",
    "population_fix = [round(x/factor,2) for x in population]\n",
    "\n",
    "pop_heat_layer = gmaps.heatmap_layer(locations3, \n",
    "                                 weights=population_fix, \n",
    "                                 dissipating=False, \n",
    "                                 max_intensity=100, \n",
    "                                 point_radius=0.045)\n",
    "\n",
    "pop_heat_layer.dissipating = False\n",
    "pop_heat_layer.max_intensity = 100\n",
    "pop_heat_layer.point_radius = 0.045\n",
    "\n",
    "fig4 = gmaps.figure()\n",
    "fig4.add_layer(pop_heat_layer)\n",
    "fig4"
   ]
  },
  {
   "cell_type": "markdown",
   "metadata": {},
   "source": [
    "Added the population layer to the great coffee shops layer to look at trends between population and location of great coffee shops."
   ]
  },
  {
   "cell_type": "code",
   "execution_count": 20,
   "metadata": {
    "scrolled": false
   },
   "outputs": [
    {
     "data": {
      "application/vnd.jupyter.widget-view+json": {
       "model_id": "fa78deb6d8db4486a601853a9e0bdad8",
       "version_major": 2,
       "version_minor": 0
      },
      "text/plain": [
       "Figure(layout=FigureLayout(height='420px'))"
      ]
     },
     "metadata": {},
     "output_type": "display_data"
    }
   ],
   "source": [
    "### Relationship between great coffee shops and Chicago's population heatmap ###\n",
    "fig5 = gmaps.figure()\n",
    "fig5.add_layer(great_coffee_shop_layer)\n",
    "fig5.add_layer(pop_heat_layer)\n",
    "\n",
    "fig5"
   ]
  },
  {
   "cell_type": "code",
   "execution_count": 21,
   "metadata": {},
   "outputs": [
    {
     "name": "stderr",
     "output_type": "stream",
     "text": [
      "C:\\Anaconda\\lib\\site-packages\\ipykernel_launcher.py:21: SettingWithCopyWarning: \n",
      "A value is trying to be set on a copy of a slice from a DataFrame.\n",
      "Try using .loc[row_indexer,col_indexer] = value instead\n",
      "\n",
      "See the caveats in the documentation: http://pandas.pydata.org/pandas-docs/stable/indexing.html#indexing-view-versus-copy\n",
      "C:\\Anaconda\\lib\\site-packages\\ipykernel_launcher.py:22: SettingWithCopyWarning: \n",
      "A value is trying to be set on a copy of a slice from a DataFrame.\n",
      "Try using .loc[row_indexer,col_indexer] = value instead\n",
      "\n",
      "See the caveats in the documentation: http://pandas.pydata.org/pandas-docs/stable/indexing.html#indexing-view-versus-copy\n",
      "C:\\Anaconda\\lib\\site-packages\\ipykernel_launcher.py:23: SettingWithCopyWarning: \n",
      "A value is trying to be set on a copy of a slice from a DataFrame.\n",
      "Try using .loc[row_indexer,col_indexer] = value instead\n",
      "\n",
      "See the caveats in the documentation: http://pandas.pydata.org/pandas-docs/stable/indexing.html#indexing-view-versus-copy\n"
     ]
    },
    {
     "data": {
      "text/html": [
       "<div>\n",
       "<style scoped>\n",
       "    .dataframe tbody tr th:only-of-type {\n",
       "        vertical-align: middle;\n",
       "    }\n",
       "\n",
       "    .dataframe tbody tr th {\n",
       "        vertical-align: top;\n",
       "    }\n",
       "\n",
       "    .dataframe thead th {\n",
       "        text-align: right;\n",
       "    }\n",
       "</style>\n",
       "<table border=\"1\" class=\"dataframe\">\n",
       "  <thead>\n",
       "    <tr style=\"text-align: right;\">\n",
       "      <th></th>\n",
       "      <th>name</th>\n",
       "      <th>is_closed</th>\n",
       "      <th>categories</th>\n",
       "      <th>review_count</th>\n",
       "      <th>rating</th>\n",
       "      <th>location</th>\n",
       "      <th>coordinates</th>\n",
       "      <th>zip_code</th>\n",
       "      <th>latitude</th>\n",
       "      <th>longitude</th>\n",
       "    </tr>\n",
       "  </thead>\n",
       "  <tbody>\n",
       "    <tr>\n",
       "      <th>2</th>\n",
       "      <td>McDonald's</td>\n",
       "      <td>False</td>\n",
       "      <td>[{'alias': 'hotdogs', 'title': 'Fast Food'}, {...</td>\n",
       "      <td>86</td>\n",
       "      <td>2.0</td>\n",
       "      <td>{'address1': '10 E Chicago Ave', 'address2': '...</td>\n",
       "      <td>{'latitude': 41.8969575550707, 'longitude': -8...</td>\n",
       "      <td>60611</td>\n",
       "      <td>41.896958</td>\n",
       "      <td>-87.627692</td>\n",
       "    </tr>\n",
       "    <tr>\n",
       "      <th>10</th>\n",
       "      <td>McDonald's</td>\n",
       "      <td>False</td>\n",
       "      <td>[{'alias': 'burgers', 'title': 'Burgers'}, {'a...</td>\n",
       "      <td>53</td>\n",
       "      <td>2.0</td>\n",
       "      <td>{'address1': '1664 S Blue Isl', 'address2': ''...</td>\n",
       "      <td>{'latitude': 41.8584657807567, 'longitude': -8...</td>\n",
       "      <td>60608</td>\n",
       "      <td>41.858466</td>\n",
       "      <td>-87.660929</td>\n",
       "    </tr>\n",
       "    <tr>\n",
       "      <th>38</th>\n",
       "      <td>McDonald's</td>\n",
       "      <td>False</td>\n",
       "      <td>[{'alias': 'hotdogs', 'title': 'Fast Food'}, {...</td>\n",
       "      <td>55</td>\n",
       "      <td>2.0</td>\n",
       "      <td>{'address1': '2005 W Chicago Ave', 'address2':...</td>\n",
       "      <td>{'latitude': 41.895579959178, 'longitude': -87...</td>\n",
       "      <td>60622</td>\n",
       "      <td>41.895580</td>\n",
       "      <td>-87.677531</td>\n",
       "    </tr>\n",
       "    <tr>\n",
       "      <th>41</th>\n",
       "      <td>McDonald's</td>\n",
       "      <td>False</td>\n",
       "      <td>[{'alias': 'hotdogs', 'title': 'Fast Food'}, {...</td>\n",
       "      <td>41</td>\n",
       "      <td>2.0</td>\n",
       "      <td>{'address1': '36 W Randolph', 'address2': '', ...</td>\n",
       "      <td>{'latitude': 41.884627, 'longitude': -87.62929}</td>\n",
       "      <td>60601</td>\n",
       "      <td>41.884627</td>\n",
       "      <td>-87.629290</td>\n",
       "    </tr>\n",
       "    <tr>\n",
       "      <th>2</th>\n",
       "      <td>McDonald's</td>\n",
       "      <td>False</td>\n",
       "      <td>[{'alias': 'burgers', 'title': 'Burgers'}, {'a...</td>\n",
       "      <td>58</td>\n",
       "      <td>2.0</td>\n",
       "      <td>{'address1': '2400 N Lincoln Ave', 'address2':...</td>\n",
       "      <td>{'latitude': 41.9256699, 'longitude': -87.64949}</td>\n",
       "      <td>60614</td>\n",
       "      <td>41.925670</td>\n",
       "      <td>-87.649490</td>\n",
       "    </tr>\n",
       "  </tbody>\n",
       "</table>\n",
       "</div>"
      ],
      "text/plain": [
       "          name  is_closed                                         categories  \\\n",
       "2   McDonald's      False  [{'alias': 'hotdogs', 'title': 'Fast Food'}, {...   \n",
       "10  McDonald's      False  [{'alias': 'burgers', 'title': 'Burgers'}, {'a...   \n",
       "38  McDonald's      False  [{'alias': 'hotdogs', 'title': 'Fast Food'}, {...   \n",
       "41  McDonald's      False  [{'alias': 'hotdogs', 'title': 'Fast Food'}, {...   \n",
       "2   McDonald's      False  [{'alias': 'burgers', 'title': 'Burgers'}, {'a...   \n",
       "\n",
       "    review_count  rating                                           location  \\\n",
       "2             86     2.0  {'address1': '10 E Chicago Ave', 'address2': '...   \n",
       "10            53     2.0  {'address1': '1664 S Blue Isl', 'address2': ''...   \n",
       "38            55     2.0  {'address1': '2005 W Chicago Ave', 'address2':...   \n",
       "41            41     2.0  {'address1': '36 W Randolph', 'address2': '', ...   \n",
       "2             58     2.0  {'address1': '2400 N Lincoln Ave', 'address2':...   \n",
       "\n",
       "                                          coordinates zip_code   latitude  \\\n",
       "2   {'latitude': 41.8969575550707, 'longitude': -8...    60611  41.896958   \n",
       "10  {'latitude': 41.8584657807567, 'longitude': -8...    60608  41.858466   \n",
       "38  {'latitude': 41.895579959178, 'longitude': -87...    60622  41.895580   \n",
       "41    {'latitude': 41.884627, 'longitude': -87.62929}    60601  41.884627   \n",
       "2    {'latitude': 41.9256699, 'longitude': -87.64949}    60614  41.925670   \n",
       "\n",
       "    longitude  \n",
       "2  -87.627692  \n",
       "10 -87.660929  \n",
       "38 -87.677531  \n",
       "41 -87.629290  \n",
       "2  -87.649490  "
      ]
     },
     "execution_count": 21,
     "metadata": {},
     "output_type": "execute_result"
    }
   ],
   "source": [
    "### Get some data for coffee shop not doing well ###\n",
    "coffee_shop_low_rate = good_coffee_df.loc[( good_coffee_df[\"rating\"] <= 2.0)]\n",
    "num_coffee_shop_low_rate = coffee_shop_low_rate['name'].count()\n",
    "\n",
    "zip_list_low_rate_coffee_shop = []\n",
    "lat_list_low_rate_coffee_shop = []\n",
    "lng_list_low_rate_coffee_shop = []\n",
    "\n",
    "for i in range(0, num_coffee_shop_low_rate):\n",
    "    \n",
    "    temp_zip = coffee_shop_low_rate[\"location\"].iloc[i][\"zip_code\"]\n",
    "    zip_list_low_rate_coffee_shop.append(temp_zip)\n",
    "    \n",
    "    temp_lat = coffee_shop_low_rate[\"coordinates\"].iloc[i][\"latitude\"]\n",
    "    lat_list_low_rate_coffee_shop.append(temp_lat)\n",
    "    \n",
    "    temp_lng = coffee_shop_low_rate[\"coordinates\"].iloc[i][\"longitude\"]\n",
    "    lng_list_low_rate_coffee_shop.append(temp_lng)    \n",
    "    \n",
    "#Re-organize the dataframe\n",
    "coffee_shop_low_rate['zip_code'] = zip_list_low_rate_coffee_shop\n",
    "coffee_shop_low_rate['latitude'] = lat_list_low_rate_coffee_shop\n",
    "coffee_shop_low_rate['longitude'] = lng_list_low_rate_coffee_shop\n",
    "\n",
    "coffee_shop_low_rate.head()"
   ]
  },
  {
   "cell_type": "code",
   "execution_count": 22,
   "metadata": {},
   "outputs": [
    {
     "data": {
      "application/vnd.jupyter.widget-view+json": {
       "model_id": "f9b21865cdba46e4b99d7c7041d8e9f5",
       "version_major": 2,
       "version_minor": 0
      },
      "text/plain": [
       "Figure(layout=FigureLayout(height='420px'))"
      ]
     },
     "metadata": {},
     "output_type": "display_data"
    }
   ],
   "source": [
    "gmaps.configure(api_key = gkey)\n",
    "\n",
    "locations4 = coffee_shop_low_rate[[\"latitude\", \"longitude\"]].astype(float)\n",
    "\n",
    "coffee_shop_low_rate_layer = gmaps.symbol_layer(locations4, \n",
    "                                       fill_color='rgba(0, 150, 0, 0.4)',\n",
    "                                       stroke_color='rgba(0, 0, 150, 0.4)', \n",
    "                                       scale=2)\n",
    "\n",
    "fig6 = gmaps.figure()\n",
    "fig6.add_layer(coffee_shop_low_rate_layer)\n",
    "fig6"
   ]
  },
  {
   "cell_type": "code",
   "execution_count": 23,
   "metadata": {},
   "outputs": [
    {
     "name": "stderr",
     "output_type": "stream",
     "text": [
      "C:\\Anaconda\\lib\\site-packages\\ipykernel_launcher.py:28: SettingWithCopyWarning: \n",
      "A value is trying to be set on a copy of a slice from a DataFrame\n",
      "\n",
      "See the caveats in the documentation: http://pandas.pydata.org/pandas-docs/stable/indexing.html#indexing-view-versus-copy\n",
      "C:\\Anaconda\\lib\\site-packages\\ipykernel_launcher.py:29: SettingWithCopyWarning: \n",
      "A value is trying to be set on a copy of a slice from a DataFrame\n",
      "\n",
      "See the caveats in the documentation: http://pandas.pydata.org/pandas-docs/stable/indexing.html#indexing-view-versus-copy\n",
      "C:\\Anaconda\\lib\\site-packages\\ipykernel_launcher.py:30: SettingWithCopyWarning: \n",
      "A value is trying to be set on a copy of a slice from a DataFrame\n",
      "\n",
      "See the caveats in the documentation: http://pandas.pydata.org/pandas-docs/stable/indexing.html#indexing-view-versus-copy\n",
      "C:\\Anaconda\\lib\\site-packages\\ipykernel_launcher.py:31: SettingWithCopyWarning: \n",
      "A value is trying to be set on a copy of a slice from a DataFrame\n",
      "\n",
      "See the caveats in the documentation: http://pandas.pydata.org/pandas-docs/stable/indexing.html#indexing-view-versus-copy\n"
     ]
    },
    {
     "data": {
      "text/html": [
       "<div>\n",
       "<style scoped>\n",
       "    .dataframe tbody tr th:only-of-type {\n",
       "        vertical-align: middle;\n",
       "    }\n",
       "\n",
       "    .dataframe tbody tr th {\n",
       "        vertical-align: top;\n",
       "    }\n",
       "\n",
       "    .dataframe thead th {\n",
       "        text-align: right;\n",
       "    }\n",
       "</style>\n",
       "<table border=\"1\" class=\"dataframe\">\n",
       "  <thead>\n",
       "    <tr style=\"text-align: right;\">\n",
       "      <th></th>\n",
       "      <th>Number_of_Coffee_Shop_Low_Rate</th>\n",
       "      <th>Number_of_Coffee_Shop_Total</th>\n",
       "    </tr>\n",
       "    <tr>\n",
       "      <th>name</th>\n",
       "      <th></th>\n",
       "      <th></th>\n",
       "    </tr>\n",
       "  </thead>\n",
       "  <tbody>\n",
       "    <tr>\n",
       "      <th>McDonald's</th>\n",
       "      <td>61</td>\n",
       "      <td>88</td>\n",
       "    </tr>\n",
       "    <tr>\n",
       "      <th>Dunkin' Donuts</th>\n",
       "      <td>49</td>\n",
       "      <td>159</td>\n",
       "    </tr>\n",
       "    <tr>\n",
       "      <th>7-Eleven</th>\n",
       "      <td>25</td>\n",
       "      <td>96</td>\n",
       "    </tr>\n",
       "    <tr>\n",
       "      <th>Starbucks</th>\n",
       "      <td>16</td>\n",
       "      <td>161</td>\n",
       "    </tr>\n",
       "  </tbody>\n",
       "</table>\n",
       "</div>"
      ],
      "text/plain": [
       "                Number_of_Coffee_Shop_Low_Rate Number_of_Coffee_Shop_Total\n",
       "name                                                                      \n",
       "McDonald's                                  61                          88\n",
       "Dunkin' Donuts                              49                         159\n",
       "7-Eleven                                    25                          96\n",
       "Starbucks                                   16                         161"
      ]
     },
     "execution_count": 23,
     "metadata": {},
     "output_type": "execute_result"
    }
   ],
   "source": [
    "#Group those coffee shop ready to close\n",
    "coffee_shop_low_rate_gy = coffee_shop_low_rate.groupby('name')\n",
    "number_of_shops = coffee_shop_low_rate_gy['location'].count()\n",
    "\n",
    "coffee_shop_low_rate_df = pd.DataFrame(number_of_shops)\n",
    "coffee_shop_low_rate_df = coffee_shop_low_rate_df.rename(columns={\"location\":\"Number_of_Coffee_Shop_Low_Rate\"})\n",
    "coffee_shop_low_rate_df.sort_values(by = \"Number_of_Coffee_Shop_Low_Rate\",ascending=False, inplace=True)\n",
    "\n",
    "#Rename the row label\n",
    "coffee_shop_low_rate_df = coffee_shop_low_rate_df.rename(index=\n",
    "    {\"Dunkin' Dounts\":\"Dunkin' Donuts\", \n",
    "     \"Dunkin Donuts\":\"Dunkin' Donuts\",\n",
    "     \"Cafe Descartes\":\"Café Descartes\"})\n",
    "\n",
    "coffee_shop_low_rate_df = coffee_shop_low_rate_df.head(4)\n",
    "\n",
    "#top four are all series coffee shop, let's see rate of low-rate locations out of their total locations \n",
    "cafe_total_groupby = good_coffee_df.groupby(\"name\")\n",
    "total_num_of_coffee_shop = cafe_total_groupby[\"location\"].count()\n",
    "\n",
    "mcdonalds_total = total_num_of_coffee_shop[\"McDonald's\"]\n",
    "dunkin_total = total_num_of_coffee_shop[\"Dunkin' Donuts\"]\n",
    "seven_total = total_num_of_coffee_shop[\"7-Eleven\"]\n",
    "starbucks_total = total_num_of_coffee_shop[\"Starbucks\"]\n",
    "\n",
    "coffee_shop_low_rate_df[\"Number_of_Coffee_Shop_Total\"] = \"\"\n",
    "\n",
    "coffee_shop_low_rate_df[\"Number_of_Coffee_Shop_Total\"][\"McDonald's\"] = mcdonalds_total\n",
    "coffee_shop_low_rate_df[\"Number_of_Coffee_Shop_Total\"][\"Dunkin' Donuts\"] = dunkin_total\n",
    "coffee_shop_low_rate_df[\"Number_of_Coffee_Shop_Total\"][\"7-Eleven\"] = seven_total\n",
    "coffee_shop_low_rate_df[\"Number_of_Coffee_Shop_Total\"][\"Starbucks\"] = starbucks_total\n",
    "\n",
    "coffee_shop_low_rate_df"
   ]
  },
  {
   "cell_type": "code",
   "execution_count": 24,
   "metadata": {},
   "outputs": [
    {
     "data": {
      "image/png": "[encoded data removed]",
      "text/plain": [
       "<Figure size 1080x720 with 1 Axes>"
      ]
     },
     "metadata": {
      "needs_background": "light"
     },
     "output_type": "display_data"
    }
   ],
   "source": [
    "ax = coffee_shop_low_rate_df[['Number_of_Coffee_Shop_Low_Rate','Number_of_Coffee_Shop_Total']].plot(kind='bar', \n",
    "                                                                                                    title = \"Series Coffee Shops - Number of Low Rate Locations VS. Total Number of Locations\",\n",
    "                                                                                                    figsize=(15, 10))\n",
    "ax.set_xlabel(\"Brand\", fontsize=12)\n",
    "ax.set_ylabel(\"Number of Coffee Shops\", fontsize=12)\n",
    "plt.show()"
   ]
  },
  {
   "cell_type": "code",
   "execution_count": 26,
   "metadata": {
    "scrolled": true
   },
   "outputs": [
    {
     "data": {
      "image/png": "[encoded data removed]",
      "text/plain": [
       "<Figure size 432x288 with 1 Axes>"
      ]
     },
     "metadata": {
      "needs_background": "light"
     },
     "output_type": "display_data"
    }
   ],
   "source": [
    "# Merge Population and Yelp Data into one Data Frame on Zip Code\n",
    "merged_coffee_pop = pd.merge(chicago_pop_df, great_coffee_shop, on=\"zip_code\")\n",
    "\n",
    "# Scatter Plot - Population of Neighborhood (by Zip Code) vs. Number of Reviews (from Yelp) - Visibility of Shop\n",
    "yelp_reviews = merged_coffee_pop[\"review_count\"]\n",
    "by_population = merged_coffee_pop[\"Population in 2010\"]\n",
    "\n",
    "plt.scatter(by_population, yelp_reviews, marker = \"o\", edgecolors = \"black\", facecolor = \"cyan\", \n",
    "            alpha = 0.75, linewidth = 1.0)\n",
    "\n",
    "plt.xlabel('Neighborhood Population (from Census)')\n",
    "plt.ylabel('Number of Positive Yelp Reviews of Coffee Shop')\n",
    "plt.title('Chicago Coffee Shop Visibility')\n",
    "\n",
    "plt.grid()\n",
    "plt.savefig(\"../CoffeeShopVisibility.png\")\n",
    "plt.show()"
   ]
  },
  {
   "cell_type": "markdown",
   "metadata": {},
   "source": [
    "Calculated the total number of reviews (sum) that have been written about coffee shops in each Chicago Zip Code"
   ]
  },
  {
   "cell_type": "code",
   "execution_count": 29,
   "metadata": {},
   "outputs": [
    {
     "data": {
      "image/png": "[encoded data removed]",
      "text/plain": [
       "<Figure size 1080x360 with 1 Axes>"
      ]
     },
     "metadata": {
      "needs_background": "light"
     },
     "output_type": "display_data"
    }
   ],
   "source": [
    "zip_group = great_coffee_shop.groupby('zip_code')\n",
    "\n",
    "review_group = zip_group['review_count'].sum()\n",
    "\n",
    "# Create a bar chart based off of the group series from before\n",
    "review_count_chart = review_group.plot(kind='bar', figsize=(15, 5))\n",
    "\n",
    "# Set the xlabel and ylabel\n",
    "review_count_chart.set_title(\"Number of Positive Yelp Reviews per Chicago Zip Code\")\n",
    "review_count_chart.set_xlabel(\"Chicago Zip Code\")\n",
    "review_count_chart.set_ylabel(\"# of Positive Yelp Reviews Written by Customers\")\n",
    "\n",
    "plt.savefig(\"../ReviewCounts.png\")\n",
    "plt.tight_layout()\n",
    "plt.show()\n",
    "\n",
    "#Streeterville (60611) has the most reviews written "
   ]
  }
 ],
 "metadata": {
  "kernelspec": {
   "display_name": "Python 3",
   "language": "python",
   "name": "python3"
  },
  "language_info": {
   "codemirror_mode": {
    "name": "ipython",
    "version": 3
   },
   "file_extension": ".py",
   "mimetype": "text/x-python",
   "name": "python",
   "nbconvert_exporter": "python",
   "pygments_lexer": "ipython3",
   "version": "3.6.7"
  }
 },
 "nbformat": 4,
 "nbformat_minor": 2
}
