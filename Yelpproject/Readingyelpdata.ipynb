{
 "cells": [
  {
   "cell_type": "code",
   "execution_count": 19,
   "metadata": {},
   "outputs": [],
   "source": [
    "#import modules\n",
    "\n",
    "import requests\n",
    "from YelpAPI import get_my_key"
   ]
  },
  {
   "cell_type": "code",
   "execution_count": 20,
   "metadata": {},
   "outputs": [],
   "source": [
    "#Define a bussines Id\n",
    "bussiness_id = 'gezgzYZ16YVGnCcnFvy6WQ'"
   ]
  },
  {
   "cell_type": "code",
   "execution_count": 21,
   "metadata": {},
   "outputs": [],
   "source": [
    "#Define API Key, Define the End point, and define the header\n",
    "# API_KEY = get_my_key()\n",
    "ENDPOINT = 'https://api.yelp.com/v3/businesses/search'\n",
    "HEADERS = {'Authorization':'bearer %s' % get_my_key}\n"
   ]
  },
  {
   "cell_type": "code",
   "execution_count": 22,
   "metadata": {},
   "outputs": [],
   "source": [
    "#Define param\n",
    "PARAMETERS ={'term':'coffee',\n",
    "            'limit':50,\n",
    "            'radius':10000,\n",
    "            'location' : 'Chicago' \n",
    "            }"
   ]
  },
  {
   "cell_type": "code",
   "execution_count": 23,
   "metadata": {},
   "outputs": [
    {
     "name": "stdout",
     "output_type": "stream",
     "text": [
      "{'error': {'code': 'VALIDATION_ERROR', 'description': \"'bearer 7drrJgDPlq7nfq1rLD8Ypgv26uldYNgJoHOYDVPMDQr_UjcHBbZttf8BTLK7DrF8GO8zYn_yb_offnDnXq5cTELOQ12' does not match '^(?i)Bearer [A-Za-z0-9\\\\\\\\-\\\\\\\\_]{128}$'\", 'field': 'Authorization', 'instance': 'bearer 7drrJgDPlq7nfq1rLD8Ypgv26uldYNgJoHOYDVPMDQr_UjcHBbZttf8BTLK7DrF8GO8zYn_yb_offnDnXq5cTELOQ12'}}\n"
     ]
    }
   ],
   "source": [
    "#makae a request to the yelp API\n",
    "response = requests.get(url = ENDPOINT, params= PARAMETERS, headers = HEADERS)\n",
    "data = response.json() \n",
    "print(data)"
   ]
  },
  {
   "cell_type": "markdown",
   "metadata": {},
   "source": [
    "#convert json string to a dictionary\n",
    "bussiness_data = response.json()\n",
    "print(business_data)"
   ]
  },
  {
   "cell_type": "code",
   "execution_count": null,
   "metadata": {},
   "outputs": [],
   "source": []
  }
 ],
 "metadata": {
  "kernelspec": {
   "display_name": "Python 3",
   "language": "python",
   "name": "python3"
  },
  "language_info": {
   "codemirror_mode": {
    "name": "ipython",
    "version": 3
   },
   "file_extension": ".py",
   "mimetype": "text/x-python",
   "name": "python",
   "nbconvert_exporter": "python",
   "pygments_lexer": "ipython3",
   "version": "3.7.1"
  }
 },
 "nbformat": 4,
 "nbformat_minor": 2
}
